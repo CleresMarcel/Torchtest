{
  "cells": [
    {
      "cell_type": "markdown",
      "metadata": {
        "id": "tNkHvEPOdOT4"
      },
      "source": [
        "This is a project testing regressions using PyTorch, where I also test how to utilize the GPU, save, and load the model."
      ]
    },
    {
      "cell_type": "markdown",
      "metadata": {},
      "source": [
        "Gradient descent and backpropagation are necessary to create the model.\n",
        "\n",
        "Yi = f(Xi, Beta) + bias\n",
        "\n"
      ]
    },
    {
      "cell_type": "code",
      "execution_count": null,
      "metadata": {
        "colab": {
          "base_uri": "https://localhost:8080/",
          "height": 35
        },
        "id": "V63UG1P1dVEd",
        "outputId": "822e2987-6dc5-4204-b2e5-434b4c52086b"
      },
      "outputs": [
        {
          "data": {
            "application/vnd.google.colaboratory.intrinsic+json": {
              "type": "string"
            },
            "text/plain": [
              "'2.2.1+cu121'"
            ]
          },
          "execution_count": 204,
          "metadata": {},
          "output_type": "execute_result"
        }
      ],
      "source": [
        "import torch\n",
        "from torch import nn \n",
        "import torch.nn as nn\n",
        "import matplotlib.pyplot as plt\n",
        "import pandas as pd\n",
        "import numpy as np\n",
        "\n",
        "torch.__version__"
      ]
    },
    {
      "cell_type": "markdown",
      "metadata": {},
      "source": [
        "Keep tensors capitalized, good practice."
      ]
    },
    {
      "cell_type": "code",
      "execution_count": null,
      "metadata": {
        "colab": {
          "base_uri": "https://localhost:8080/"
        },
        "id": "54a_Wf8xelSN",
        "outputId": "b62befc3-6696-44ab-8372-4b52392ead52"
      },
      "outputs": [
        {
          "data": {
            "text/plain": [
              "tensor([0.0000, 0.0200, 0.0400, 0.0600, 0.0800, 0.1000, 0.1200, 0.1400, 0.1600,\n",
              "        0.1800, 0.2000, 0.2200, 0.2400, 0.2600, 0.2800, 0.3000, 0.3200, 0.3400,\n",
              "        0.3600, 0.3800, 0.4000, 0.4200, 0.4400, 0.4600, 0.4800, 0.5000, 0.5200,\n",
              "        0.5400, 0.5600, 0.5800, 0.6000, 0.6200, 0.6400, 0.6600, 0.6800, 0.7000,\n",
              "        0.7200, 0.7400, 0.7600, 0.7800, 0.8000, 0.8200, 0.8400, 0.8600, 0.8800,\n",
              "        0.9000, 0.9200, 0.9400, 0.9600, 0.9800])"
            ]
          },
          "execution_count": 205,
          "metadata": {},
          "output_type": "execute_result"
        }
      ],
      "source": [
        "weight = 0.7\n",
        "bias = 0.3\n",
        "\n",
        "start = 0\n",
        "end = 1\n",
        "step = 0.02\n",
        "#Keep tensors capitalized, good practice.\n",
        "X = torch.arange(start, end, step)\n",
        "X"
      ]
    },
    {
      "cell_type": "markdown",
      "metadata": {
        "id": "VTZCVNnvhOb3"
      },
      "source": [
        "I need to add an extra dimension to keep it organized. We don't want tensor size errors."
      ]
    },
    {
      "cell_type": "code",
      "execution_count": null,
      "metadata": {
        "colab": {
          "base_uri": "https://localhost:8080/"
        },
        "id": "iMLJaYvehBW8",
        "outputId": "8e2fde04-e31c-403e-bbb2-b5baf5b73a4a"
      },
      "outputs": [
        {
          "data": {
            "text/plain": [
              "tensor([[0.0000],\n",
              "        [0.0200],\n",
              "        [0.0400],\n",
              "        [0.0600],\n",
              "        [0.0800],\n",
              "        [0.1000],\n",
              "        [0.1200],\n",
              "        [0.1400],\n",
              "        [0.1600],\n",
              "        [0.1800],\n",
              "        [0.2000],\n",
              "        [0.2200],\n",
              "        [0.2400],\n",
              "        [0.2600],\n",
              "        [0.2800],\n",
              "        [0.3000],\n",
              "        [0.3200],\n",
              "        [0.3400],\n",
              "        [0.3600],\n",
              "        [0.3800],\n",
              "        [0.4000],\n",
              "        [0.4200],\n",
              "        [0.4400],\n",
              "        [0.4600],\n",
              "        [0.4800],\n",
              "        [0.5000],\n",
              "        [0.5200],\n",
              "        [0.5400],\n",
              "        [0.5600],\n",
              "        [0.5800],\n",
              "        [0.6000],\n",
              "        [0.6200],\n",
              "        [0.6400],\n",
              "        [0.6600],\n",
              "        [0.6800],\n",
              "        [0.7000],\n",
              "        [0.7200],\n",
              "        [0.7400],\n",
              "        [0.7600],\n",
              "        [0.7800],\n",
              "        [0.8000],\n",
              "        [0.8200],\n",
              "        [0.8400],\n",
              "        [0.8600],\n",
              "        [0.8800],\n",
              "        [0.9000],\n",
              "        [0.9200],\n",
              "        [0.9400],\n",
              "        [0.9600],\n",
              "        [0.9800]])"
            ]
          },
          "execution_count": 206,
          "metadata": {},
          "output_type": "execute_result"
        }
      ],
      "source": [
        "X = torch.arange(start, end, step).unsqueeze(dim=1)\n",
        "y = weight * X + bias\n",
        "\n",
        "X\n",
        "#or X[:10] to see the first 10 items"
      ]
    },
    {
      "cell_type": "code",
      "execution_count": null,
      "metadata": {
        "colab": {
          "base_uri": "https://localhost:8080/"
        },
        "id": "FZVYmvm6e5a1",
        "outputId": "a120ea8d-cf61-4aec-ece1-3a8b82088312"
      },
      "outputs": [
        {
          "data": {
            "text/plain": [
              "tensor([[0.3000],\n",
              "        [0.3140],\n",
              "        [0.3280],\n",
              "        [0.3420],\n",
              "        [0.3560],\n",
              "        [0.3700],\n",
              "        [0.3840],\n",
              "        [0.3980],\n",
              "        [0.4120],\n",
              "        [0.4260]])"
            ]
          },
          "execution_count": 207,
          "metadata": {},
          "output_type": "execute_result"
        }
      ],
      "source": [
        "y[:10]"
      ]
    },
    {
      "cell_type": "code",
      "execution_count": null,
      "metadata": {
        "colab": {
          "base_uri": "https://localhost:8080/"
        },
        "id": "40pY6Sfpe-VB",
        "outputId": "3833077e-2977-4511-e051-ceccd3e26d7b"
      },
      "outputs": [
        {
          "data": {
            "text/plain": [
              "50"
            ]
          },
          "execution_count": 208,
          "metadata": {},
          "output_type": "execute_result"
        }
      ],
      "source": [
        "len(X)"
      ]
    },
    {
      "cell_type": "code",
      "execution_count": null,
      "metadata": {
        "colab": {
          "base_uri": "https://localhost:8080/"
        },
        "id": "gWTBfy7be_tj",
        "outputId": "9e7f8a9f-542b-4680-a6de-aeb59cac1237"
      },
      "outputs": [
        {
          "data": {
            "text/plain": [
              "50"
            ]
          },
          "execution_count": 209,
          "metadata": {},
          "output_type": "execute_result"
        }
      ],
      "source": [
        "len(y)"
      ]
    },
    {
      "cell_type": "markdown",
      "metadata": {
        "id": "v1iQBo2_hxDo"
      },
      "source": [
        "Splitting the data:\n",
        "\n",
        "Train: 60% to 80%\n",
        "\n",
        "Validation: 10% to 20%\n",
        "\n",
        "Testing: 10% to 20%"
      ]
    },
    {
      "cell_type": "markdown",
      "metadata": {},
      "source": [
        "You can do the same with scikit\n",
        "\n",
        "\n",
        "In this case, I want to use the indices of tensor X, 40 items"
      ]
    },
    {
      "cell_type": "code",
      "execution_count": null,
      "metadata": {
        "colab": {
          "base_uri": "https://localhost:8080/"
        },
        "id": "3hUe9bPehzGS",
        "outputId": "6f76a991-e3f4-431d-e0bc-9f3797256241"
      },
      "outputs": [
        {
          "data": {
            "text/plain": [
              "40"
            ]
          },
          "execution_count": 210,
          "metadata": {},
          "output_type": "execute_result"
        }
      ],
      "source": [
        "\n",
        "train_split = int(0.8 * len(X))\n",
        "train_split"
      ]
    },
    {
      "cell_type": "markdown",
      "metadata": {},
      "source": [
        "This is a representation of the first 40 items.\n"
      ]
    },
    {
      "cell_type": "code",
      "execution_count": null,
      "metadata": {
        "colab": {
          "base_uri": "https://localhost:8080/"
        },
        "id": "Jsfe1gohjUpn",
        "outputId": "c596d6fa-af81-4b94-e73b-f0a8d012ede4"
      },
      "outputs": [
        {
          "data": {
            "text/plain": [
              "tensor([[0.0000],\n",
              "        [0.0200],\n",
              "        [0.0400],\n",
              "        [0.0600],\n",
              "        [0.0800],\n",
              "        [0.1000],\n",
              "        [0.1200],\n",
              "        [0.1400],\n",
              "        [0.1600],\n",
              "        [0.1800],\n",
              "        [0.2000],\n",
              "        [0.2200],\n",
              "        [0.2400],\n",
              "        [0.2600],\n",
              "        [0.2800],\n",
              "        [0.3000],\n",
              "        [0.3200],\n",
              "        [0.3400],\n",
              "        [0.3600],\n",
              "        [0.3800],\n",
              "        [0.4000],\n",
              "        [0.4200],\n",
              "        [0.4400],\n",
              "        [0.4600],\n",
              "        [0.4800],\n",
              "        [0.5000],\n",
              "        [0.5200],\n",
              "        [0.5400],\n",
              "        [0.5600],\n",
              "        [0.5800],\n",
              "        [0.6000],\n",
              "        [0.6200],\n",
              "        [0.6400],\n",
              "        [0.6600],\n",
              "        [0.6800],\n",
              "        [0.7000],\n",
              "        [0.7200],\n",
              "        [0.7400],\n",
              "        [0.7600],\n",
              "        [0.7800]])"
            ]
          },
          "execution_count": 211,
          "metadata": {},
          "output_type": "execute_result"
        }
      ],
      "source": [
        "X[:train_split]\n"
      ]
    },
    {
      "cell_type": "markdown",
      "metadata": {},
      "source": [
        "Now, for the remaining 10 items."
      ]
    },
    {
      "cell_type": "code",
      "execution_count": null,
      "metadata": {
        "colab": {
          "base_uri": "https://localhost:8080/"
        },
        "id": "el8eJh1dkaDD",
        "outputId": "a6e1411d-98e4-47ac-b431-0d862c9081b2"
      },
      "outputs": [
        {
          "data": {
            "text/plain": [
              "tensor([[0.8000],\n",
              "        [0.8200],\n",
              "        [0.8400],\n",
              "        [0.8600],\n",
              "        [0.8800],\n",
              "        [0.9000],\n",
              "        [0.9200],\n",
              "        [0.9400],\n",
              "        [0.9600],\n",
              "        [0.9800]])"
            ]
          },
          "execution_count": 212,
          "metadata": {},
          "output_type": "execute_result"
        }
      ],
      "source": [
        "\n",
        "X[train_split:]"
      ]
    },
    {
      "cell_type": "code",
      "execution_count": null,
      "metadata": {
        "colab": {
          "base_uri": "https://localhost:8080/"
        },
        "id": "Pt4_OTSkjR3o",
        "outputId": "b03dd062-5b14-433a-98ad-16b14eb6c5bc"
      },
      "outputs": [
        {
          "data": {
            "text/plain": [
              "(40, 40, 10, 10)"
            ]
          },
          "execution_count": 213,
          "metadata": {},
          "output_type": "execute_result"
        }
      ],
      "source": [
        "X_train, y_train = X[:train_split], y[:train_split]\n",
        "X_test, y_test = X[train_split:], y[train_split:]\n",
        "len(X_train), len(y_train), len(X_test) , len(y_test)"
      ]
    },
    {
      "cell_type": "markdown",
      "metadata": {},
      "source": [
        "\n",
        "#Can we improve the visualization?"
      ]
    },
    {
      "cell_type": "code",
      "execution_count": null,
      "metadata": {
        "id": "jNjw4Zb9mItp"
      },
      "outputs": [],
      "source": [
        "def plot_pred(train_data=X_train,\n",
        "              train_labels = y_train,\n",
        "              test_data=X_test,\n",
        "              test_labels=y_test,\n",
        "              predictions = None):\n",
        "  \"\"\"\n",
        "  plotar data, test data e comparar predictions\n",
        "  \"\"\"\n",
        "  plt.figure(figsize=(10,7))\n",
        "\n",
        "  plt.scatter(train_data,train_labels, c=\"b\", s=4, label = \"Training Dataaa\")\n",
        "\n",
        "  plt.scatter(test_data, test_labels, c=\"g\", s=4, label= \"testing data\")\n",
        "\n",
        "  if predictions is not None:\n",
        "    plt.scatter(test_data, predictions, c=\"r\", s=4, label = \"predictions\")\n",
        "\n",
        "  plt.legend(prop={\"size\":14});\n",
        "\n"
      ]
    },
    {
      "cell_type": "code",
      "execution_count": null,
      "metadata": {
        "colab": {
          "base_uri": "https://localhost:8080/",
          "height": 599
        },
        "id": "XEuVpatFokxb",
        "outputId": "65571ff9-e4f8-4c7f-92ca-b6fbff01c140"
      },
      "outputs": [
        {
          "data": {
            "image/png": "[encoded data removed]",
            "text/plain": [
              "<Figure size 1000x700 with 1 Axes>"
            ]
          },
          "metadata": {},
          "output_type": "display_data"
        }
      ],
      "source": [
        "plot_pred();"
      ]
    },
    {
      "cell_type": "markdown",
      "metadata": {
        "id": "0OZIay8am-vI"
      },
      "source": [
        "We can use PyTorch classes (OOP) for this."
      ]
    },
    {
      "cell_type": "markdown",
      "metadata": {},
      "source": [
        "#It's important to see what I inherit from this nn.Module class.\n",
        "\n",
        "# https://pytorch.org/docs/stable/generated/torch.nn.Module.html\n",
        "\n",
        "My model needs to subclass this class (nn.Module is the subclass, it has the buildings).\n",
        "\n",
        "\n",
        "Inside, I have my class constructors. I create them.\n",
        "\n",
        "This step below is necessary because I am working with my own dataset. If I were using a dataset from Kaggle, for example, other modules would be imported, and I would not need to declare weights and biase"
      ]
    },
    {
      "cell_type": "code",
      "execution_count": null,
      "metadata": {
        "id": "nASO3rFfpqvQ"
      },
      "outputs": [],
      "source": [
        "\n",
        "\n",
        "from torch import nn\n",
        "class LinearRegressionModel(nn.Module):\n",
        "  def __init__(self): #construtor\n",
        "    super().__init__()\n",
        "\n",
        "    #constructors\n",
        "    #https://pytorch.org/docs/stable/generated/torch.nn.parameter.Parameter.html\n",
        "    self.weights = nn.Parameter(torch.randn(1, # peso inicial\n",
        "                                            requires_grad = True, # I ask to update via gradient descent\n",
        "                                            dtype=torch.float)) #pytorch likes float 32\n",
        "    self.bias = nn.Parameter(torch.rand(1,\n",
        "                                        requires_grad = True,\n",
        "                                        dtype=torch.float))\n",
        "\n",
        "    #I create my weight parameters, bias parameters.\n",
        "    #I create the forward pass. ALL NN.MODULES REQUIRE A FORWARD PASS\n",
        "    #Note: x is my input data.\n",
        "\n",
        "    \"\"\"\n",
        "    \n",
        "    Here we also have a good programming practice occurring.\n",
        "    Where x: torch.Tensor informs me that I expect my x to receive something of type torch.Tensor.\n",
        "    While the syntax () -> tells me that this function will return an output of type torch.Tensor.\n",
        "    These are good practices.\n",
        "    \"\"\"\n",
        "\n",
        "  def forward(self, x: torch.Tensor) -> torch.Tensor:\n",
        "    return self.weights * x + self.bias\n",
        "\n"
      ]
    },
    {
      "cell_type": "markdown",
      "metadata": {},
      "source": [
        "Main classes of the NN to interact with.\n",
        "\n",
        "torch.nn - my buildings\n",
        "torch.nn.Parameter - the parameters we want to learn, these PyTorch provides to us\n",
        "\n",
        "torch.nn.Module - if I use it as a subclass, I need to perform the forward pass\n",
        "\n",
        "torch.optim - I need to create an optimizer. Algorithms can be updated by an optimizer\n",
        "\n",
        "torch.utils.data.Dataset - maps labels and features into data pairs (VERY USEFUL)\n",
        "\n",
        "torch.utils.data.Dataloader - creates an iterable from my dataset\n",
        "\n",
        "torchvision.transforms\n",
        "\n",
        "torchvision.models - fetch pre-trained models\n",
        "\n",
        "torch.utils.tensorboard - experiments.\n",
        "#https://pytorch.org/tutorials/beginner/ptcheat.html"
      ]
    },
    {
      "cell_type": "code",
      "execution_count": null,
      "metadata": {
        "colab": {
          "base_uri": "https://localhost:8080/"
        },
        "id": "B9DG4OUHw7Qd",
        "outputId": "945b18a6-5606-4d2b-a018-be0ccb5e6ea6"
      },
      "outputs": [
        {
          "data": {
            "text/plain": [
              "LinearRegressionModel()"
            ]
          },
          "execution_count": 217,
          "metadata": {},
          "output_type": "execute_result"
        }
      ],
      "source": [
        "#look inside the model:\n",
        "\n",
        "torch.manual_seed(42)\n",
        "#actually, the correct way would be to use torch.randn(1) because that's how it works in reality\n",
        "#creating an instance of the model to initialize it\n",
        "\n",
        "model_0 = LinearRegressionModel()\n",
        "model_0 #it will just inform me what it received"
      ]
    },
    {
      "cell_type": "code",
      "execution_count": null,
      "metadata": {
        "colab": {
          "base_uri": "https://localhost:8080/"
        },
        "id": "6EQiaBAHxsAo",
        "outputId": "430165d9-9769-44d6-c75f-487c7445a058"
      },
      "outputs": [
        {
          "data": {
            "text/plain": [
              "<generator object Module.parameters at 0x7dc4f81967a0>"
            ]
          },
          "execution_count": 218,
          "metadata": {},
          "output_type": "execute_result"
        }
      ],
      "source": [
        "model_0.parameters()\n",
        "#informs the type i received"
      ]
    },
    {
      "cell_type": "code",
      "execution_count": null,
      "metadata": {
        "colab": {
          "base_uri": "https://localhost:8080/"
        },
        "id": "Fvtlk-mixyp3",
        "outputId": "c19e42b8-02b5-4cfb-e756-f0960360f311"
      },
      "outputs": [
        {
          "data": {
            "text/plain": [
              "[Parameter containing:\n",
              " tensor([0.3367], requires_grad=True),\n",
              " Parameter containing:\n",
              " tensor([0.3904], requires_grad=True)]"
            ]
          },
          "execution_count": 219,
          "metadata": {},
          "output_type": "execute_result"
        }
      ],
      "source": [
        "list(model_0.parameters())\n",
        "#ok, so I receive the parameters, an initial float weight, and the requires"
      ]
    },
    {
      "cell_type": "code",
      "execution_count": null,
      "metadata": {
        "colab": {
          "base_uri": "https://localhost:8080/"
        },
        "id": "O4Qge57hx8XP",
        "outputId": "c538a45b-30d1-416a-81d2-068433d3df14"
      },
      "outputs": [
        {
          "data": {
            "text/plain": [
              "OrderedDict([('weights', tensor([0.3367])), ('bias', tensor([0.3904]))])"
            ]
          },
          "execution_count": 220,
          "metadata": {},
          "output_type": "execute_result"
        }
      ],
      "source": [
        "#I can make it even easier to visualize\n",
        "\n",
        "model_0.state_dict()"
      ]
    },
    {
      "cell_type": "code",
      "execution_count": null,
      "metadata": {
        "colab": {
          "base_uri": "https://localhost:8080/"
        },
        "id": "ePMAZ3wBzkQV",
        "outputId": "a520f7d1-41ec-4cb6-9127-18ddf4d4ace9"
      },
      "outputs": [
        {
          "data": {
            "text/plain": [
              "(0.7, 0.3)"
            ]
          },
          "execution_count": 221,
          "metadata": {},
          "output_type": "execute_result"
        }
      ],
      "source": [
        "weight,bias"
      ]
    },
    {
      "cell_type": "code",
      "execution_count": null,
      "metadata": {
        "colab": {
          "base_uri": "https://localhost:8080/"
        },
        "id": "teGdqOm0I9ZV",
        "outputId": "58a59fb3-de85-48c7-8b82-6df483255589"
      },
      "outputs": [
        {
          "data": {
            "text/plain": [
              "tensor([[0.6598],\n",
              "        [0.6665],\n",
              "        [0.6733],\n",
              "        [0.6800],\n",
              "        [0.6867],\n",
              "        [0.6935],\n",
              "        [0.7002],\n",
              "        [0.7069],\n",
              "        [0.7137],\n",
              "        [0.7204]], grad_fn=<AddBackward0>)"
            ]
          },
          "execution_count": 222,
          "metadata": {},
          "output_type": "execute_result"
        }
      ],
      "source": [
        "y_preds = model_0(X_test)\n",
        "y_preds\n",
        "#Here I have the grad."
      ]
    },
    {
      "cell_type": "code",
      "execution_count": null,
      "metadata": {
        "colab": {
          "base_uri": "https://localhost:8080/"
        },
        "id": "VHL8x6-_FxfE",
        "outputId": "99b84b18-2f3c-422e-a541-ecda2abeaae1"
      },
      "outputs": [
        {
          "data": {
            "text/plain": [
              "tensor([[0.6598],\n",
              "        [0.6665],\n",
              "        [0.6733],\n",
              "        [0.6800],\n",
              "        [0.6867],\n",
              "        [0.6935],\n",
              "        [0.7002],\n",
              "        [0.7069],\n",
              "        [0.7137],\n",
              "        [0.7204]])"
            ]
          },
          "execution_count": 223,
          "metadata": {},
          "output_type": "execute_result"
        }
      ],
      "source": [
        "#Evaluating my model with the predictions. torch.inference_mode()\n",
        "#With this inference mode, I remove the gradient from the passed subclass. There is no training, so it doesn't make sense to track the data. The inference will be faster\n",
        "#Using torch.no_grad() has already been discussed\n",
        "\n",
        "with torch.inference_mode():\n",
        "  y_preds = model_0(X_test)\n",
        "y_preds\n",
        "\n",
        "\n",
        "\n",
        "#torch.no_grad() is basically the same thing as inference mode\n"
      ]
    },
    {
      "cell_type": "markdown",
      "metadata": {
        "id": "tO2cgmT8Ak-4"
      },
      "source": [
        "'''\n",
        "with torch.no_grad():\n",
        "  y_preds = model_0(X_test)\n",
        "\n",
        "y_preds\n",
        "'''"
      ]
    },
    {
      "cell_type": "code",
      "execution_count": null,
      "metadata": {
        "colab": {
          "base_uri": "https://localhost:8080/"
        },
        "id": "ox3NIaedIUJi",
        "outputId": "e7c5a0bc-8ccb-45aa-8a6e-91edad63a5f6"
      },
      "outputs": [
        {
          "data": {
            "text/plain": [
              "tensor([[0.8600],\n",
              "        [0.8740],\n",
              "        [0.8880],\n",
              "        [0.9020],\n",
              "        [0.9160],\n",
              "        [0.9300],\n",
              "        [0.9440],\n",
              "        [0.9580],\n",
              "        [0.9720],\n",
              "        [0.9860]])"
            ]
          },
          "execution_count": 224,
          "metadata": {},
          "output_type": "execute_result"
        }
      ],
      "source": [
        "y_test"
      ]
    },
    {
      "cell_type": "code",
      "execution_count": null,
      "metadata": {
        "colab": {
          "base_uri": "https://localhost:8080/",
          "height": 599
        },
        "id": "2qhUdR1-IXJa",
        "outputId": "0a194b67-13a9-4ad9-cc7b-8edb13cbdf38"
      },
      "outputs": [
        {
          "data": {
            "image/png": "[encoded data removed]",
            "text/plain": [
              "<Figure size 1000x700 with 1 Axes>"
            ]
          },
          "metadata": {},
          "output_type": "display_data"
        }
      ],
      "source": [
        "plot_pred(predictions=y_preds)"
      ]
    },
    {
      "cell_type": "markdown",
      "metadata": {
        "id": "fIVHqE5h3lr6"
      },
      "source": [
        "To train, I need to measure. Use a loss function or criterion. PYTORCH HAS SEVERAL !!\n",
        "(https://pytorch.org/docs/stable/nn.html#loss-functions)\n",
        "\n",
        "Optimizer -> adjust the weights and biases.\n",
        "\n",
        "In PyTorch, L1 is the MAE - min absolute error -> it is the absolute value of the distance, while cross-entropy is used for classification.\n",
        "\n",
        "Loss function and optimizer work together !!\n",
        "\n",
        "(https://pytorch.org/docs/stable/optim.html)\n",
        "\n",
        "For optimizer, there's Adam, SGD, and many more !!\n",
        "Stochastic gradient descent -> is done using random values.\n",
        "\n",
        "To use the SGD optimizer, I need to pass the model as a parameter, along with the learning rate.\n",
        "\n"
      ]
    },
    {
      "cell_type": "code",
      "execution_count": null,
      "metadata": {
        "colab": {
          "base_uri": "https://localhost:8080/"
        },
        "id": "Le7MFMEy4yOI",
        "outputId": "76d30782-d425-4442-b149-52c90b03f41f"
      },
      "outputs": [
        {
          "data": {
            "text/plain": [
              "SGD (\n",
              "Parameter Group 0\n",
              "    dampening: 0\n",
              "    differentiable: False\n",
              "    foreach: None\n",
              "    lr: 0.001\n",
              "    maximize: False\n",
              "    momentum: 0\n",
              "    nesterov: False\n",
              "    weight_decay: 0\n",
              ")"
            ]
          },
          "execution_count": 226,
          "metadata": {},
          "output_type": "execute_result"
        }
      ],
      "source": [
        "loss_fn = nn.L1Loss()\n",
        "loss_fn\n",
        "\n",
        "optimizer = torch.optim.SGD(params=model_0.parameters(),\n",
        "                                              lr=0.001)\n",
        "optimizer"
      ]
    },
    {
      "cell_type": "code",
      "execution_count": null,
      "metadata": {
        "colab": {
          "base_uri": "https://localhost:8080/"
        },
        "id": "ZhU9hRzj-3Yl",
        "outputId": "7eb66eb5-8670-461f-98f5-731b525da109"
      },
      "outputs": [
        {
          "data": {
            "text/plain": [
              "[Parameter containing:\n",
              " tensor([0.3367], requires_grad=True),\n",
              " Parameter containing:\n",
              " tensor([0.3904], requires_grad=True)]"
            ]
          },
          "execution_count": 227,
          "metadata": {},
          "output_type": "execute_result"
        }
      ],
      "source": [
        "#isso é inutil\n",
        "list(model_0.parameters())"
      ]
    },
    {
      "cell_type": "markdown",
      "metadata": {
        "id": "QbEGG8Jk9tPi"
      },
      "source": [
        "training loop:\n",
        "\n",
        "loop the data.\n",
        "\n",
        "forward pass.\n",
        "\n",
        "calculate the loss\n",
        "\n",
        "optmizer zero grad\n",
        "\n",
        "loss backward\n",
        "\n",
        "optimizer step -> gradient descendent\n"
      ]
    },
    {
      "cell_type": "code",
      "execution_count": null,
      "metadata": {
        "colab": {
          "base_uri": "https://localhost:8080/"
        },
        "id": "YDcEoce6-EH_",
        "outputId": "17948c93-fabc-47ec-be68-7bf6fdbf05b5"
      },
      "outputs": [
        {
          "name": "stdout",
          "output_type": "stream",
          "text": [
            "Loss:0.08169572055339813\n",
            "Epoch: 0 | Loss: 0.08169572055339813 | Test loss: 0.23226967453956604\n",
            "OrderedDict([('weights', tensor([0.3370])), ('bias', tensor([0.3908]))])\n",
            "Loss:0.0814758837223053\n",
            "Loss:0.08125604689121246\n",
            "Loss:0.08103619515895844\n",
            "Loss:0.0808163583278656\n",
            "Loss:0.08059649914503098\n",
            "Loss:0.08037666976451874\n",
            "Loss:0.08015681803226471\n",
            "Loss:0.07993697375059128\n",
            "Loss:0.07971713691949844\n",
            "Loss:0.07951223850250244\n",
            "Epoch: 10 | Loss: 0.07951223850250244 | Test loss: 0.22605447471141815\n",
            "OrderedDict([('weights', tensor([0.3401])), ('bias', tensor([0.3942]))])\n",
            "Loss:0.07933284342288971\n",
            "Loss:0.07915343344211578\n",
            "Loss:0.07897403836250305\n",
            "Loss:0.07879464328289032\n",
            "Loss:0.07861524075269699\n",
            "Loss:0.07843583822250366\n",
            "Loss:0.07825644314289093\n",
            "Loss:0.078077033162117\n",
            "Loss:0.07789763063192368\n",
            "Loss:0.07771823555231094\n",
            "Epoch: 20 | Loss: 0.07771823555231094 | Test loss: 0.22039338946342468\n",
            "OrderedDict([('weights', tensor([0.3431])), ('bias', tensor([0.3972]))])\n",
            "Loss:0.07753884047269821\n",
            "Loss:0.07735943794250488\n",
            "Loss:0.07718003541231155\n",
            "Loss:0.07700063288211823\n",
            "Loss:0.0768212378025055\n",
            "Loss:0.07664183527231216\n",
            "Loss:0.07646243274211884\n",
            "Loss:0.07628312706947327\n",
            "Loss:0.07613939791917801\n",
            "Loss:0.07599567621946335\n",
            "Epoch: 30 | Loss: 0.07599567621946335 | Test loss: 0.21491968631744385\n",
            "OrderedDict([('weights', tensor([0.3460])), ('bias', tensor([0.4001]))])\n",
            "Loss:0.07585194706916809\n",
            "Loss:0.07570822536945343\n",
            "Loss:0.07556448876857758\n",
            "Loss:0.07542075961828232\n",
            "Loss:0.07527704536914825\n",
            "Loss:0.0751333087682724\n",
            "Loss:0.07498957961797714\n",
            "Loss:0.07484585046768188\n",
            "Loss:0.07470212876796722\n",
            "Loss:0.07455839216709137\n",
            "Epoch: 40 | Loss: 0.07455839216709137 | Test loss: 0.20988306403160095\n",
            "OrderedDict([('weights', tensor([0.3489])), ('bias', tensor([0.4026]))])\n",
            "Loss:0.07441467046737671\n",
            "Loss:0.07427094876766205\n",
            "Loss:0.0741272121667862\n",
            "Loss:0.07398349046707153\n",
            "Loss:0.07383976131677628\n",
            "Loss:0.07369603216648102\n",
            "Loss:0.07355229556560516\n",
            "Loss:0.0734085738658905\n",
            "Loss:0.07326485216617584\n",
            "Loss:0.07313548028469086\n",
            "Epoch: 50 | Loss: 0.07313548028469086 | Test loss: 0.2049098014831543\n",
            "OrderedDict([('weights', tensor([0.3517])), ('bias', tensor([0.4050]))])\n",
            "Loss:0.07302256673574448\n",
            "Loss:0.07290966808795929\n",
            "Loss:0.0727967694401741\n",
            "Loss:0.07268385589122772\n",
            "Loss:0.07257095724344254\n",
            "Loss:0.07245805859565735\n",
            "Loss:0.07234515249729156\n",
            "Loss:0.07223225384950638\n",
            "Loss:0.07211934030056\n",
            "Loss:0.07200644165277481\n",
            "Epoch: 60 | Loss: 0.07200644165277481 | Test loss: 0.20050668716430664\n",
            "OrderedDict([('weights', tensor([0.3544])), ('bias', tensor([0.4070]))])\n",
            "Loss:0.07189353555440903\n",
            "Loss:0.07178063690662384\n",
            "Loss:0.07166773080825806\n",
            "Loss:0.07155482470989227\n",
            "Loss:0.07144193351268768\n",
            "Loss:0.0713290199637413\n",
            "Loss:0.07121612131595612\n",
            "Loss:0.07110320776700974\n",
            "Loss:0.07099030911922455\n",
            "Loss:0.07087741047143936\n",
            "Epoch: 70 | Loss: 0.07087741047143936 | Test loss: 0.19610358774662018\n",
            "OrderedDict([('weights', tensor([0.3571])), ('bias', tensor([0.4090]))])\n",
            "Loss:0.07076450437307358\n",
            "Loss:0.07065160572528839\n",
            "Loss:0.0705387070775032\n",
            "Loss:0.0704353004693985\n",
            "Loss:0.07034827768802643\n",
            "Loss:0.07026125490665436\n",
            "Loss:0.07017424702644348\n",
            "Loss:0.07008723169565201\n",
            "Loss:0.07000021636486053\n",
            "Loss:0.06991320103406906\n",
            "Epoch: 80 | Loss: 0.06991320103406906 | Test loss: 0.19215023517608643\n",
            "OrderedDict([('weights', tensor([0.3597])), ('bias', tensor([0.4107]))])\n",
            "Loss:0.06982618570327759\n",
            "Loss:0.06973917782306671\n",
            "Loss:0.06965215504169464\n",
            "Loss:0.06956513226032257\n",
            "Loss:0.0694781243801117\n",
            "Loss:0.06939110159873962\n",
            "Loss:0.06930408626794815\n",
            "Loss:0.06921706348657608\n",
            "Loss:0.0691300481557846\n",
            "Loss:0.06904304027557373\n",
            "Epoch: 90 | Loss: 0.06904304027557373 | Test loss: 0.1883896291255951\n",
            "OrderedDict([('weights', tensor([0.3623])), ('bias', tensor([0.4122]))])\n",
            "Loss:0.06895601749420166\n",
            "Loss:0.06886900216341019\n",
            "Loss:0.06878198683261871\n",
            "Loss:0.06869496405124664\n",
            "Loss:0.06860794872045517\n",
            "Loss:0.0685209333896637\n",
            "Loss:0.06843392550945282\n",
            "Loss:0.06834690272808075\n",
            "Loss:0.06825987994670868\n",
            "Loss:0.0681728646159172\n",
            "Epoch: 100 | Loss: 0.0681728646159172 | Test loss: 0.18462903797626495\n",
            "OrderedDict([('weights', tensor([0.3648])), ('bias', tensor([0.4137]))])\n",
            "Loss:0.06808584928512573\n",
            "Loss:0.06799883395433426\n",
            "Loss:0.06792197376489639\n",
            "Loss:0.06785581260919571\n",
            "Loss:0.06778965145349503\n",
            "Loss:0.06772348284721375\n",
            "Loss:0.06765732169151306\n",
            "Loss:0.06759115308523178\n",
            "Loss:0.0675249844789505\n",
            "Loss:0.06745882332324982\n",
            "Epoch: 110 | Loss: 0.06745882332324982 | Test loss: 0.18138965964317322\n",
            "OrderedDict([('weights', tensor([0.3672])), ('bias', tensor([0.4148]))])\n",
            "Loss:0.06739266216754913\n",
            "Loss:0.06732650101184845\n",
            "Loss:0.06726033240556717\n",
            "Loss:0.06719416379928589\n",
            "Loss:0.06712799519300461\n",
            "Loss:0.06706183403730392\n",
            "Loss:0.06699567288160324\n",
            "Loss:0.06692951172590256\n",
            "Loss:0.06686334311962128\n",
            "Loss:0.0667971819639206\n",
            "Epoch: 120 | Loss: 0.0667971819639206 | Test loss: 0.17828059196472168\n",
            "OrderedDict([('weights', tensor([0.3696])), ('bias', tensor([0.4158]))])\n",
            "Loss:0.06673102080821991\n",
            "Loss:0.06666484475135803\n",
            "Loss:0.06659867614507675\n",
            "Loss:0.06653251498937607\n",
            "Loss:0.06646635383367538\n",
            "Loss:0.0664001852273941\n",
            "Loss:0.06633402407169342\n",
            "Loss:0.06626786291599274\n",
            "Loss:0.06620169430971146\n",
            "Loss:0.06613553315401077\n",
            "Epoch: 130 | Loss: 0.06613553315401077 | Test loss: 0.17517152428627014\n",
            "OrderedDict([('weights', tensor([0.3719])), ('bias', tensor([0.4168]))])\n",
            "Loss:0.06606936454772949\n",
            "Loss:0.06600320339202881\n",
            "Loss:0.06593703478574753\n",
            "Loss:0.06587086617946625\n",
            "Loss:0.06580470502376556\n",
            "Loss:0.06573854386806488\n",
            "Loss:0.0656723752617836\n",
            "Loss:0.06560620665550232\n",
            "Loss:0.06554906815290451\n",
            "Loss:0.06549860537052155\n",
            "Epoch: 140 | Loss: 0.06549860537052155 | Test loss: 0.1721944808959961\n",
            "OrderedDict([('weights', tensor([0.3743])), ('bias', tensor([0.4177]))])\n",
            "Loss:0.06544815003871918\n",
            "Loss:0.06539768725633621\n",
            "Loss:0.06534723192453384\n",
            "Loss:0.06529676914215088\n",
            "Loss:0.06524630635976791\n",
            "Loss:0.06519584357738495\n",
            "Loss:0.06514538824558258\n",
            "Loss:0.06509493291378021\n",
            "Loss:0.06504447758197784\n",
            "Loss:0.06499400734901428\n",
            "Epoch: 150 | Loss: 0.06499400734901428 | Test loss: 0.16974540054798126\n",
            "OrderedDict([('weights', tensor([0.3765])), ('bias', tensor([0.4182]))])\n",
            "Loss:0.06494355201721191\n",
            "Loss:0.06489309668540955\n",
            "Loss:0.06484264135360718\n",
            "Loss:0.06479217857122421\n",
            "Loss:0.06474171578884125\n",
            "Loss:0.06469126045703888\n",
            "Loss:0.06464080512523651\n",
            "Loss:0.06459034979343414\n",
            "Loss:0.06453988701105118\n",
            "Loss:0.06448943167924881\n",
            "Epoch: 160 | Loss: 0.06448943167924881 | Test loss: 0.16729633510112762\n",
            "OrderedDict([('weights', tensor([0.3787])), ('bias', tensor([0.4187]))])\n",
            "Loss:0.06443896889686584\n",
            "Loss:0.06438851356506348\n",
            "Loss:0.06433804333209991\n",
            "Loss:0.06428759545087814\n",
            "Loss:0.06423713266849518\n",
            "Loss:0.06418667733669281\n",
            "Loss:0.06413621455430984\n",
            "Loss:0.06408575922250748\n",
            "Loss:0.06403530389070511\n",
            "Loss:0.06398484110832214\n",
            "Epoch: 170 | Loss: 0.06398484110832214 | Test loss: 0.164847269654274\n",
            "OrderedDict([('weights', tensor([0.3808])), ('bias', tensor([0.4192]))])\n",
            "Loss:0.06393438577651978\n",
            "Loss:0.06388391554355621\n",
            "Loss:0.06383346766233444\n",
            "Loss:0.06378300487995148\n",
            "Loss:0.06373254954814911\n",
            "Loss:0.06368209421634674\n",
            "Loss:0.06363163888454437\n",
            "Loss:0.06358116865158081\n",
            "Loss:0.06353070586919785\n",
            "Loss:0.06348024308681488\n",
            "Epoch: 180 | Loss: 0.06348024308681488 | Test loss: 0.16239818930625916\n",
            "OrderedDict([('weights', tensor([0.3830])), ('bias', tensor([0.4197]))])\n",
            "Loss:0.06342979520559311\n",
            "Loss:0.06337933242321014\n",
            "Loss:0.06332887709140778\n",
            "Loss:0.06327842175960541\n",
            "Loss:0.06322796642780304\n",
            "Loss:0.06317751109600067\n",
            "Loss:0.06312964111566544\n",
            "Loss:0.06308964639902115\n",
            "Loss:0.06304962933063507\n",
            "Loss:0.06300963461399078\n",
            "Epoch: 190 | Loss: 0.06300963461399078 | Test loss: 0.16021673381328583\n",
            "OrderedDict([('weights', tensor([0.3852])), ('bias', tensor([0.4200]))])\n",
            "Loss:0.0629696324467659\n",
            "Loss:0.06292963027954102\n",
            "Loss:0.06288962066173553\n",
            "Loss:0.06284963339567184\n",
            "Loss:0.06280963122844696\n",
            "Loss:0.06276962906122208\n",
            "Loss:0.06272962689399719\n",
            "Loss:0.0626896321773529\n",
            "Loss:0.06264962255954742\n",
            "Loss:0.06260962784290314\n",
            "Epoch: 200 | Loss: 0.06260962784290314 | Test loss: 0.15843670070171356\n",
            "OrderedDict([('weights', tensor([0.3872])), ('bias', tensor([0.4200]))])\n",
            "Loss:0.06256962567567825\n",
            "Loss:0.06252962350845337\n",
            "Loss:0.06248962879180908\n",
            "Loss:0.0624496154487133\n",
            "Loss:0.062409620732069016\n",
            "Loss:0.06236962229013443\n",
            "Loss:0.06232963129878044\n",
            "Loss:0.06228961795568466\n",
            "Loss:0.062249623239040375\n",
            "Loss:0.06220962479710579\n",
            "Epoch: 210 | Loss: 0.06220962479710579 | Test loss: 0.1566566675901413\n",
            "OrderedDict([('weights', tensor([0.3892])), ('bias', tensor([0.4200]))])\n",
            "Loss:0.06216961890459061\n",
            "Loss:0.06212961673736572\n",
            "Loss:0.06208961084485054\n",
            "Loss:0.06204961985349655\n",
            "Loss:0.062009621411561966\n",
            "Loss:0.06196961924433708\n",
            "Loss:0.061929620802402496\n",
            "Loss:0.06188961863517761\n",
            "Loss:0.06184961274266243\n",
            "Loss:0.061809610575437546\n",
            "Epoch: 220 | Loss: 0.061809610575437546 | Test loss: 0.15487666428089142\n",
            "OrderedDict([('weights', tensor([0.3912])), ('bias', tensor([0.4200]))])\n",
            "Loss:0.06176961213350296\n",
            "Loss:0.061729609966278076\n",
            "Loss:0.06168961524963379\n",
            "Loss:0.061649613082408905\n",
            "Loss:0.06160961464047432\n",
            "Loss:0.06156960874795914\n",
            "Loss:0.06152961403131485\n",
            "Loss:0.06148960441350937\n",
            "Loss:0.06144960969686508\n",
            "Loss:0.061409611254930496\n",
            "Epoch: 230 | Loss: 0.061409611254930496 | Test loss: 0.15309660136699677\n",
            "OrderedDict([('weights', tensor([0.3932])), ('bias', tensor([0.4200]))])\n",
            "Loss:0.06136960908770561\n",
            "Loss:0.06132961064577103\n",
            "Loss:0.061289601027965546\n",
            "Loss:0.06124960631132126\n",
            "Loss:0.06120960786938667\n",
            "Loss:0.06116960570216179\n",
            "Loss:0.061129599809646606\n",
            "Loss:0.06108960509300232\n",
            "Loss:0.06104961037635803\n",
            "Loss:0.06100960448384285\n",
            "Epoch: 240 | Loss: 0.06100960448384285 | Test loss: 0.1513165831565857\n",
            "OrderedDict([('weights', tensor([0.3952])), ('bias', tensor([0.4200]))])\n",
            "Loss:0.060969602316617966\n",
            "Loss:0.06092960387468338\n",
            "Loss:0.060889601707458496\n",
            "Loss:0.060849595814943314\n",
            "Loss:0.060809601098299026\n",
            "Loss:0.06076959893107414\n",
            "Loss:0.06072960048913956\n",
            "Loss:0.060689590871334076\n",
            "Loss:0.06064959615468979\n",
            "Loss:0.060609590262174606\n",
            "Epoch: 250 | Loss: 0.060609590262174606 | Test loss: 0.14953657984733582\n",
            "OrderedDict([('weights', tensor([0.3972])), ('bias', tensor([0.4200]))])\n",
            "Loss:0.06056959554553032\n",
            "Loss:0.06052958965301514\n",
            "Loss:0.06048958748579025\n",
            "Loss:0.060449592769145966\n",
            "Loss:0.06040958687663078\n",
            "Loss:0.06036959961056709\n",
            "Loss:0.060329586267471313\n",
            "Loss:0.060289591550827026\n",
            "Loss:0.06024958938360214\n",
            "Loss:0.06020958349108696\n",
            "Epoch: 260 | Loss: 0.06020958349108696 | Test loss: 0.14775650203227997\n",
            "OrderedDict([('weights', tensor([0.3992])), ('bias', tensor([0.4200]))])\n",
            "Loss:0.060169585049152374\n",
            "Loss:0.06012958288192749\n",
            "Loss:0.0600895881652832\n",
            "Loss:0.06004958599805832\n",
            "Loss:0.06000959128141403\n",
            "Loss:0.05997253209352493\n",
            "Loss:0.059937626123428345\n",
            "Loss:0.059902727603912354\n",
            "Loss:0.05986782908439636\n",
            "Loss:0.059832923114299774\n",
            "Epoch: 270 | Loss: 0.059832923114299774 | Test loss: 0.1463155299425125\n",
            "OrderedDict([('weights', tensor([0.4011])), ('bias', tensor([0.4197]))])\n",
            "Loss:0.05979802459478378\n",
            "Loss:0.05976312607526779\n",
            "Loss:0.059728216379880905\n",
            "Loss:0.05969332531094551\n",
            "Loss:0.05965841934084892\n",
            "Loss:0.05962351709604263\n",
            "Loss:0.05958861857652664\n",
            "Loss:0.05955372005701065\n",
            "Loss:0.059518806636333466\n",
            "Loss:0.059483908116817474\n",
            "Epoch: 280 | Loss: 0.059483908116817474 | Test loss: 0.1452135592699051\n",
            "OrderedDict([('weights', tensor([0.4029])), ('bias', tensor([0.4192]))])\n",
            "Loss:0.059449005872011185\n",
            "Loss:0.059414107352495193\n",
            "Loss:0.0593792088329792\n",
            "Loss:0.05934431403875351\n",
            "Loss:0.05930940434336662\n",
            "Loss:0.05927450209856033\n",
            "Loss:0.059239596128463745\n",
            "Loss:0.059204697608947754\n",
            "Loss:0.059169791638851166\n",
            "Loss:0.059134889394044876\n",
            "Epoch: 290 | Loss: 0.059134889394044876 | Test loss: 0.14411158859729767\n",
            "OrderedDict([('weights', tensor([0.4047])), ('bias', tensor([0.4187]))])\n",
            "Loss:0.05909999459981918\n",
            "Loss:0.05906509608030319\n",
            "Loss:0.059030186384916306\n",
            "Loss:0.05899529531598091\n",
            "Loss:0.05896038934588432\n",
            "Loss:0.05892548710107803\n",
            "Loss:0.05889058858156204\n",
            "Loss:0.05885569006204605\n",
            "Loss:0.058820776641368866\n",
            "Loss:0.058785878121852875\n",
            "Epoch: 300 | Loss: 0.058785878121852875 | Test loss: 0.14300961792469025\n",
            "OrderedDict([('weights', tensor([0.4065])), ('bias', tensor([0.4182]))])\n",
            "Loss:0.058750975877046585\n",
            "Loss:0.058716077357530594\n",
            "Loss:0.0586811788380146\n",
            "Loss:0.05864628404378891\n",
            "Loss:0.05861137434840202\n",
            "Loss:0.058576472103595734\n",
            "Loss:0.058541566133499146\n",
            "Loss:0.058506667613983154\n",
            "Loss:0.058471761643886566\n",
            "Loss:0.058436859399080276\n",
            "Epoch: 310 | Loss: 0.058436859399080276 | Test loss: 0.14190764725208282\n",
            "OrderedDict([('weights', tensor([0.4083])), ('bias', tensor([0.4177]))])\n",
            "Loss:0.058401964604854584\n",
            "Loss:0.05836706608533859\n",
            "Loss:0.058332156389951706\n",
            "Loss:0.05829726532101631\n",
            "Loss:0.058262359350919724\n",
            "Loss:0.058227457106113434\n",
            "Loss:0.05819255858659744\n",
            "Loss:0.05815766006708145\n",
            "Loss:0.058122746646404266\n",
            "Loss:0.058087848126888275\n",
            "Epoch: 320 | Loss: 0.058087848126888275 | Test loss: 0.1408056765794754\n",
            "OrderedDict([('weights', tensor([0.4101])), ('bias', tensor([0.4172]))])\n",
            "Loss:0.058052945882081985\n",
            "Loss:0.058018047362565994\n",
            "Loss:0.05798314884305\n",
            "Loss:0.05794825404882431\n",
            "Loss:0.057913344353437424\n",
            "Loss:0.057878442108631134\n",
            "Loss:0.057843536138534546\n",
            "Loss:0.057808637619018555\n",
            "Loss:0.05777373164892197\n",
            "Loss:0.05773882940411568\n",
            "Epoch: 330 | Loss: 0.05773882940411568 | Test loss: 0.13970370590686798\n",
            "OrderedDict([('weights', tensor([0.4119])), ('bias', tensor([0.4167]))])\n",
            "Loss:0.057703934609889984\n",
            "Loss:0.05766903609037399\n",
            "Loss:0.057634126394987106\n",
            "Loss:0.05759923532605171\n",
            "Loss:0.057564329355955124\n",
            "Loss:0.057529427111148834\n",
            "Loss:0.05749452859163284\n",
            "Loss:0.05745963007211685\n",
            "Loss:0.05742471665143967\n",
            "Loss:0.057389818131923676\n",
            "Epoch: 340 | Loss: 0.057389818131923676 | Test loss: 0.13860173523426056\n",
            "OrderedDict([('weights', tensor([0.4137])), ('bias', tensor([0.4162]))])\n",
            "Loss:0.057354915887117386\n",
            "Loss:0.057320017367601395\n",
            "Loss:0.0572851188480854\n",
            "Loss:0.05725022405385971\n",
            "Loss:0.057215310633182526\n",
            "Loss:0.057180412113666534\n",
            "Loss:0.057145506143569946\n",
            "Loss:0.057110607624053955\n",
            "Loss:0.05707570165395737\n",
            "Loss:0.05704079940915108\n",
            "Epoch: 350 | Loss: 0.05704079940915108 | Test loss: 0.13749976456165314\n",
            "OrderedDict([('weights', tensor([0.4155])), ('bias', tensor([0.4157]))])\n",
            "Loss:0.057005904614925385\n",
            "Loss:0.056971002370119095\n",
            "Loss:0.05693609640002251\n",
            "Loss:0.05690120533108711\n",
            "Loss:0.056866299360990524\n",
            "Loss:0.056831397116184235\n",
            "Loss:0.056796491146087646\n",
            "Loss:0.05676160007715225\n",
            "Loss:0.05672668665647507\n",
            "Loss:0.056691788136959076\n",
            "Epoch: 360 | Loss: 0.056691788136959076 | Test loss: 0.13639779388904572\n",
            "OrderedDict([('weights', tensor([0.4173])), ('bias', tensor([0.4152]))])\n",
            "Loss:0.056656885892152786\n",
            "Loss:0.056621987372636795\n",
            "Loss:0.056587088853120804\n",
            "Loss:0.05655219405889511\n",
            "Loss:0.056517280638217926\n",
            "Loss:0.056482382118701935\n",
            "Loss:0.05644747614860535\n",
            "Loss:0.056412577629089355\n",
            "Loss:0.05637767165899277\n",
            "Loss:0.05634276941418648\n",
            "Epoch: 370 | Loss: 0.05634276941418648 | Test loss: 0.1352958232164383\n",
            "OrderedDict([('weights', tensor([0.4191])), ('bias', tensor([0.4147]))])\n",
            "Loss:0.056307874619960785\n",
            "Loss:0.056272972375154495\n",
            "Loss:0.05623806640505791\n",
            "Loss:0.05620317533612251\n",
            "Loss:0.056168269366025925\n",
            "Loss:0.056133367121219635\n",
            "Loss:0.05609846115112305\n",
            "Loss:0.05606357008218765\n",
            "Loss:0.05602865666151047\n",
            "Loss:0.055993758141994476\n",
            "Epoch: 380 | Loss: 0.055993758141994476 | Test loss: 0.13419385254383087\n",
            "OrderedDict([('weights', tensor([0.4209])), ('bias', tensor([0.4142]))])\n",
            "Loss:0.05595885589718819\n",
            "Loss:0.055923957377672195\n",
            "Loss:0.055889058858156204\n",
            "Loss:0.05585416406393051\n",
            "Loss:0.055819250643253326\n",
            "Loss:0.055784352123737335\n",
            "Loss:0.05574944615364075\n",
            "Loss:0.055714547634124756\n",
            "Loss:0.05567964166402817\n",
            "Loss:0.05564473941922188\n",
            "Epoch: 390 | Loss: 0.05564473941922188 | Test loss: 0.13309188187122345\n",
            "OrderedDict([('weights', tensor([0.4227])), ('bias', tensor([0.4137]))])\n",
            "Loss:0.055609844624996185\n",
            "Loss:0.055574942380189896\n",
            "Loss:0.05554003641009331\n",
            "Loss:0.05550514534115791\n",
            "Loss:0.055470239371061325\n",
            "Loss:0.055435337126255035\n",
            "Loss:0.05540043115615845\n",
            "Loss:0.05536554008722305\n",
            "Loss:0.05533062666654587\n",
            "Loss:0.05529572814702988\n",
            "Epoch: 400 | Loss: 0.05529572814702988 | Test loss: 0.13198991119861603\n",
            "OrderedDict([('weights', tensor([0.4245])), ('bias', tensor([0.4132]))])\n",
            "Loss:0.05526082590222359\n",
            "Loss:0.055225927382707596\n",
            "Loss:0.055191028863191605\n",
            "Loss:0.05515613406896591\n",
            "Loss:0.05512122064828873\n",
            "Loss:0.055086322128772736\n",
            "Loss:0.05505141615867615\n",
            "Loss:0.055016517639160156\n",
            "Loss:0.05498161166906357\n",
            "Loss:0.05494670942425728\n",
            "Epoch: 410 | Loss: 0.05494670942425728 | Test loss: 0.1308879405260086\n",
            "OrderedDict([('weights', tensor([0.4263])), ('bias', tensor([0.4127]))])\n",
            "Loss:0.054911814630031586\n",
            "Loss:0.054876912385225296\n",
            "Loss:0.05484200641512871\n",
            "Loss:0.054807115346193314\n",
            "Loss:0.054772209376096725\n",
            "Loss:0.054737307131290436\n",
            "Loss:0.05470240116119385\n",
            "Loss:0.05466751009225845\n",
            "Loss:0.05463259667158127\n",
            "Loss:0.05459769815206528\n",
            "Epoch: 420 | Loss: 0.05459769815206528 | Test loss: 0.12978596985340118\n",
            "OrderedDict([('weights', tensor([0.4281])), ('bias', tensor([0.4122]))])\n",
            "Loss:0.05456279590725899\n",
            "Loss:0.054527897387742996\n",
            "Loss:0.054492998868227005\n",
            "Loss:0.05445810407400131\n",
            "Loss:0.05442319065332413\n",
            "Loss:0.054388292133808136\n",
            "Loss:0.05435338616371155\n",
            "Loss:0.05431848764419556\n",
            "Loss:0.05428358167409897\n",
            "Loss:0.05424867942929268\n",
            "Epoch: 430 | Loss: 0.05424867942929268 | Test loss: 0.12868399918079376\n",
            "OrderedDict([('weights', tensor([0.4299])), ('bias', tensor([0.4117]))])\n",
            "Loss:0.054213784635066986\n",
            "Loss:0.054178882390260696\n",
            "Loss:0.05414397642016411\n",
            "Loss:0.054109085351228714\n",
            "Loss:0.054074179381132126\n",
            "Loss:0.054039277136325836\n",
            "Loss:0.05400437116622925\n",
            "Loss:0.053969480097293854\n",
            "Loss:0.05393456667661667\n",
            "Loss:0.05389966815710068\n",
            "Epoch: 440 | Loss: 0.05389966815710068 | Test loss: 0.12758199870586395\n",
            "OrderedDict([('weights', tensor([0.4317])), ('bias', tensor([0.4112]))])\n",
            "Loss:0.05386476591229439\n",
            "Loss:0.0538298673927784\n",
            "Loss:0.053794968873262405\n",
            "Loss:0.05376007407903671\n",
            "Loss:0.053725164383649826\n",
            "Loss:0.053690262138843536\n",
            "Loss:0.05365535616874695\n",
            "Loss:0.05362045764923096\n",
            "Loss:0.05358555167913437\n",
            "Loss:0.05355064943432808\n",
            "Epoch: 450 | Loss: 0.05355064943432808 | Test loss: 0.12648005783557892\n",
            "OrderedDict([('weights', tensor([0.4335])), ('bias', tensor([0.4107]))])\n",
            "Loss:0.053515754640102386\n",
            "Loss:0.0534808523952961\n",
            "Loss:0.05344594642519951\n",
            "Loss:0.053411055356264114\n",
            "Loss:0.053376149386167526\n",
            "Loss:0.05334124714136124\n",
            "Loss:0.05330634117126465\n",
            "Loss:0.053271450102329254\n",
            "Loss:0.05323653668165207\n",
            "Loss:0.05320163816213608\n",
            "Epoch: 460 | Loss: 0.05320163816213608 | Test loss: 0.1253780573606491\n",
            "OrderedDict([('weights', tensor([0.4353])), ('bias', tensor([0.4102]))])\n",
            "Loss:0.05316673591732979\n",
            "Loss:0.0531318373978138\n",
            "Loss:0.053096938878297806\n",
            "Loss:0.05306204408407211\n",
            "Loss:0.053027134388685226\n",
            "Loss:0.05299223214387894\n",
            "Loss:0.05295732617378235\n",
            "Loss:0.05292242765426636\n",
            "Loss:0.05288752168416977\n",
            "Loss:0.05285261943936348\n",
            "Epoch: 470 | Loss: 0.05285261943936348 | Test loss: 0.12427611649036407\n",
            "OrderedDict([('weights', tensor([0.4371])), ('bias', tensor([0.4097]))])\n",
            "Loss:0.05281772464513779\n",
            "Loss:0.0527828224003315\n",
            "Loss:0.05274791643023491\n",
            "Loss:0.052713025361299515\n",
            "Loss:0.05267811939120293\n",
            "Loss:0.05264321714639664\n",
            "Loss:0.05260831117630005\n",
            "Loss:0.052573420107364655\n",
            "Loss:0.05253850668668747\n",
            "Loss:0.05250360816717148\n",
            "Epoch: 480 | Loss: 0.05250360816717148 | Test loss: 0.12317411601543427\n",
            "OrderedDict([('weights', tensor([0.4389])), ('bias', tensor([0.4092]))])\n",
            "Loss:0.05246870592236519\n",
            "Loss:0.0524338074028492\n",
            "Loss:0.052398908883333206\n",
            "Loss:0.05236401408910751\n",
            "Loss:0.05232910439372063\n",
            "Loss:0.05229420214891434\n",
            "Loss:0.05225929617881775\n",
            "Loss:0.05222439765930176\n",
            "Loss:0.05218949168920517\n",
            "Loss:0.05215458944439888\n",
            "Epoch: 490 | Loss: 0.05215458944439888 | Test loss: 0.12207217514514923\n",
            "OrderedDict([('weights', tensor([0.4407])), ('bias', tensor([0.4087]))])\n",
            "Loss:0.05211969465017319\n",
            "Loss:0.0520847924053669\n",
            "Loss:0.05204988643527031\n",
            "Loss:0.052014995366334915\n",
            "Loss:0.05198008939623833\n",
            "Loss:0.05194518715143204\n",
            "Loss:0.05191028118133545\n",
            "Loss:0.051875390112400055\n",
            "Loss:0.05184175446629524\n",
            "Loss:0.05180685594677925\n",
            "Epoch: 500 | Loss: 0.05180685594677925 | Test loss: 0.12103889137506485\n",
            "OrderedDict([('weights', tensor([0.4424])), ('bias', tensor([0.4082]))])\n",
            "Loss:0.05177285522222519\n",
            "Loss:0.05173834040760994\n",
            "Loss:0.05170395225286484\n",
            "Loss:0.05166982486844063\n",
            "Loss:0.051635049283504486\n",
            "Loss:0.05160130187869072\n",
            "Loss:0.051566410809755325\n",
            "Loss:0.051532525569200516\n",
            "Loss:0.05149787664413452\n",
            "Loss:0.05146362632513046\n",
            "Epoch: 510 | Loss: 0.05146362632513046 | Test loss: 0.12028028815984726\n",
            "OrderedDict([('weights', tensor([0.4441])), ('bias', tensor([0.4074]))])\n",
            "Loss:0.05142936855554581\n",
            "Loss:0.05139473080635071\n",
            "Loss:0.0513608381152153\n",
            "Loss:0.05132593587040901\n",
            "Loss:0.051292210817337036\n",
            "Loss:0.0512574203312397\n",
            "Loss:0.051223307847976685\n",
            "Loss:0.05118889734148979\n",
            "Loss:0.05115440487861633\n",
            "Loss:0.05112037807703018\n",
            "Epoch: 520 | Loss: 0.05112037807703018 | Test loss: 0.11945302784442902\n",
            "OrderedDict([('weights', tensor([0.4458])), ('bias', tensor([0.4067]))])\n",
            "Loss:0.05108550935983658\n",
            "Loss:0.05105186253786087\n",
            "Loss:0.05101695656776428\n",
            "Loss:0.05098297446966171\n",
            "Loss:0.050948433578014374\n",
            "Loss:0.05091407895088196\n",
            "Loss:0.050879914313554764\n",
            "Loss:0.050845175981521606\n",
            "Loss:0.05081140249967575\n",
            "Loss:0.05077650025486946\n",
            "Epoch: 530 | Loss: 0.05077650025486946 | Test loss: 0.11862578243017197\n",
            "OrderedDict([('weights', tensor([0.4476])), ('bias', tensor([0.4060]))])\n",
            "Loss:0.05074264854192734\n",
            "Loss:0.050707973539829254\n",
            "Loss:0.05067376047372818\n",
            "Loss:0.05063945800065994\n",
            "Loss:0.05060486122965813\n",
            "Loss:0.050570935010910034\n",
            "Loss:0.05053603649139404\n",
            "Loss:0.050502337515354156\n",
            "Loss:0.050467513501644135\n",
            "Loss:0.050433434545993805\n",
            "Epoch: 540 | Loss: 0.050433434545993805 | Test loss: 0.11786718666553497\n",
            "OrderedDict([('weights', tensor([0.4493])), ('bias', tensor([0.4053]))])\n",
            "Loss:0.050398994237184525\n",
            "Loss:0.05036453157663345\n",
            "Loss:0.05033047869801521\n",
            "Loss:0.050295639783144\n",
            "Loss:0.050261951982975006\n",
            "Loss:0.05022705718874931\n",
            "Loss:0.05019310861825943\n",
            "Loss:0.050158530473709106\n",
            "Loss:0.05012420937418938\n",
            "Loss:0.050090014934539795\n",
            "Epoch: 550 | Loss: 0.050090014934539795 | Test loss: 0.11703991889953613\n",
            "OrderedDict([('weights', tensor([0.4510])), ('bias', tensor([0.4046]))])\n",
            "Loss:0.05005531385540962\n",
            "Loss:0.05002149939537048\n",
            "Loss:0.049986593425273895\n",
            "Loss:0.049952782690525055\n",
            "Loss:0.049918074160814285\n",
            "Loss:0.0498838871717453\n",
            "Loss:0.049849554896354675\n",
            "Loss:0.04981498420238495\n",
            "Loss:0.04978103190660477\n",
            "Loss:0.049746133387088776\n",
            "Epoch: 560 | Loss: 0.049746133387088776 | Test loss: 0.11621268093585968\n",
            "OrderedDict([('weights', tensor([0.4527])), ('bias', tensor([0.4039]))])\n",
            "Loss:0.04971245676279068\n",
            "Loss:0.049677614122629166\n",
            "Loss:0.049643564969301224\n",
            "Loss:0.04960909113287926\n",
            "Loss:0.049574654549360275\n",
            "Loss:0.04954057186841965\n",
            "Loss:0.04950575903058052\n",
            "Loss:0.049472056329250336\n",
            "Loss:0.04943714663386345\n",
            "Loss:0.04940323904156685\n",
            "Epoch: 570 | Loss: 0.04940323904156685 | Test loss: 0.11545409262180328\n",
            "OrderedDict([('weights', tensor([0.4544])), ('bias', tensor([0.4031]))])\n",
            "Loss:0.04936862736940384\n",
            "Loss:0.0493343360722065\n",
            "Loss:0.04930010810494423\n",
            "Loss:0.049265433102846146\n",
            "Loss:0.04923159256577492\n",
            "Loss:0.04919668287038803\n",
            "Loss:0.049162913113832474\n",
            "Loss:0.04912816360592842\n",
            "Loss:0.04909401014447212\n",
            "Loss:0.04905965179204941\n",
            "Epoch: 580 | Loss: 0.04905965179204941 | Test loss: 0.11462683975696564\n",
            "OrderedDict([('weights', tensor([0.4561])), ('bias', tensor([0.4024]))])\n",
            "Loss:0.04902511090040207\n",
            "Loss:0.0489911213517189\n",
            "Loss:0.04895622283220291\n",
            "Loss:0.0489225871860981\n",
            "Loss:0.0488877072930336\n",
            "Loss:0.048853687942028046\n",
            "Loss:0.04881918430328369\n",
            "Loss:0.048784784972667694\n",
            "Loss:0.04875066131353378\n",
            "Loss:0.04871588200330734\n",
            "Epoch: 590 | Loss: 0.04871588200330734 | Test loss: 0.11386825889348984\n",
            "OrderedDict([('weights', tensor([0.4578])), ('bias', tensor([0.4017]))])\n",
            "Loss:0.04868214577436447\n",
            "Loss:0.04864724352955818\n",
            "Loss:0.04861336201429367\n",
            "Loss:0.04857872426509857\n",
            "Loss:0.04854446277022362\n",
            "Loss:0.04851020127534866\n",
            "Loss:0.04847555607557297\n",
            "Loss:0.04844168573617935\n",
            "Loss:0.048406779766082764\n",
            "Loss:0.048373036086559296\n",
            "Epoch: 600 | Loss: 0.048373036086559296 | Test loss: 0.1130409985780716\n",
            "OrderedDict([('weights', tensor([0.4595])), ('bias', tensor([0.4010]))])\n",
            "Loss:0.048338256776332855\n",
            "Loss:0.04830413684248924\n",
            "Loss:0.04826974868774414\n",
            "Loss:0.04823523759841919\n",
            "Loss:0.048201221972703934\n",
            "Loss:0.048166338354349136\n",
            "Loss:0.04813270643353462\n",
            "Loss:0.048097800463438034\n",
            "Loss:0.048063818365335464\n",
            "Loss:0.048029277473688126\n",
            "Epoch: 610 | Loss: 0.048029277473688126 | Test loss: 0.11221374571323395\n",
            "OrderedDict([('weights', tensor([0.4612])), ('bias', tensor([0.4003]))])\n",
            "Loss:0.04799491539597511\n",
            "Loss:0.047960758209228516\n",
            "Loss:0.04792601242661476\n",
            "Loss:0.04789223521947861\n",
            "Loss:0.047857340425252914\n",
            "Loss:0.04782348871231079\n",
            "Loss:0.047788821160793304\n",
            "Loss:0.047754593193531036\n",
            "Loss:0.0477202944457531\n",
            "Loss:0.047685690224170685\n",
            "Epoch: 620 | Loss: 0.047685690224170685 | Test loss: 0.11145517975091934\n",
            "OrderedDict([('weights', tensor([0.4629])), ('bias', tensor([0.3995]))])\n",
            "Loss:0.047651760280132294\n",
            "Loss:0.047616876661777496\n",
            "Loss:0.04758317023515701\n",
            "Loss:0.047548361122608185\n",
            "Loss:0.04751426726579666\n",
            "Loss:0.04747984558343887\n",
            "Loss:0.04744536802172661\n",
            "Loss:0.04741131514310837\n",
            "Loss:0.04737646505236626\n",
            "Loss:0.047342799603939056\n",
            "Epoch: 630 | Loss: 0.047342799603939056 | Test loss: 0.11062788963317871\n",
            "OrderedDict([('weights', tensor([0.4646])), ('bias', tensor([0.3988]))])\n",
            "Loss:0.04730789735913277\n",
            "Loss:0.047273945063352585\n",
            "Loss:0.04723937809467316\n",
            "Loss:0.04720504209399223\n",
            "Loss:0.04717085883021355\n",
            "Loss:0.04713614657521248\n",
            "Loss:0.04710233584046364\n",
            "Loss:0.047067441046237946\n",
            "Loss:0.04703361541032791\n",
            "Loss:0.04699891060590744\n",
            "Epoch: 640 | Loss: 0.04699891060590744 | Test loss: 0.10980063676834106\n",
            "OrderedDict([('weights', tensor([0.4664])), ('bias', tensor([0.3981]))])\n",
            "Loss:0.04696471616625786\n",
            "Loss:0.04693039134144783\n",
            "Loss:0.04689581319689751\n",
            "Loss:0.04686187580227852\n",
            "Loss:0.04682697355747223\n",
            "Loss:0.046793289482593536\n",
            "Loss:0.04675845056772232\n",
            "Loss:0.046724386513233185\n",
            "Loss:0.04668993502855301\n",
            "Loss:0.04665548726916313\n",
            "Epoch: 650 | Loss: 0.04665548726916313 | Test loss: 0.10904207080602646\n",
            "OrderedDict([('weights', tensor([0.4680])), ('bias', tensor([0.3974]))])\n",
            "Loss:0.0466214120388031\n",
            "Loss:0.046586595475673676\n",
            "Loss:0.04655289277434349\n",
            "Loss:0.0465179905295372\n",
            "Loss:0.046484075486660004\n",
            "Loss:0.04644947126507759\n",
            "Loss:0.04641516134142876\n",
            "Loss:0.04638095945119858\n",
            "Loss:0.0463462732732296\n",
            "Loss:0.04631243273615837\n",
            "Epoch: 660 | Loss: 0.04631243273615837 | Test loss: 0.10821479558944702\n",
            "OrderedDict([('weights', tensor([0.4698])), ('bias', tensor([0.3967]))])\n",
            "Loss:0.04627753049135208\n",
            "Loss:0.04624374583363533\n",
            "Loss:0.04620901122689247\n",
            "Loss:0.04617484286427498\n",
            "Loss:0.046140484511852264\n",
            "Loss:0.046105943620204926\n",
            "Loss:0.04607196897268295\n",
            "Loss:0.04603707045316696\n",
            "Loss:0.046003423631191254\n",
            "Loss:0.04596854746341705\n",
            "Epoch: 670 | Loss: 0.04596854746341705 | Test loss: 0.10738752037286758\n",
            "OrderedDict([('weights', tensor([0.4715])), ('bias', tensor([0.3960]))])\n",
            "Loss:0.045934516936540604\n",
            "Loss:0.04590002819895744\n",
            "Loss:0.04586561396718025\n",
            "Loss:0.04583150893449783\n",
            "Loss:0.0457967184484005\n",
            "Loss:0.04576299339532852\n",
            "Loss:0.04572809115052223\n",
            "Loss:0.04569419473409653\n",
            "Loss:0.045659568160772324\n",
            "Loss:0.045625295490026474\n",
            "Epoch: 680 | Loss: 0.045625295490026474 | Test loss: 0.10662895441055298\n",
            "OrderedDict([('weights', tensor([0.4732])), ('bias', tensor([0.3952]))])\n",
            "Loss:0.045591048896312714\n",
            "Loss:0.04555639624595642\n",
            "Loss:0.045522525906562805\n",
            "Loss:0.04548761993646622\n",
            "Loss:0.04545387625694275\n",
            "Loss:0.045419104397296906\n",
            "Loss:0.0453849732875824\n",
            "Loss:0.045350588858127594\n",
            "Loss:0.045316070318222046\n",
            "Loss:0.04528206214308739\n",
            "Epoch: 690 | Loss: 0.04528206214308739 | Test loss: 0.10580170154571533\n",
            "OrderedDict([('weights', tensor([0.4749])), ('bias', tensor([0.3945]))])\n",
            "Loss:0.04524717479944229\n",
            "Loss:0.04521354287862778\n",
            "Loss:0.045178644359111786\n",
            "Loss:0.04514464735984802\n",
            "Loss:0.04511011764407158\n",
            "Loss:0.04507574439048767\n",
            "Loss:0.04504160210490227\n",
            "Loss:0.045006848871707916\n",
            "Loss:0.044973090291023254\n",
            "Loss:0.044938188046216965\n",
            "Epoch: 700 | Loss: 0.044938188046216965 | Test loss: 0.10497443377971649\n",
            "OrderedDict([('weights', tensor([0.4766])), ('bias', tensor([0.3938]))])\n",
            "Loss:0.044904328882694244\n",
            "Loss:0.044869668781757355\n",
            "Loss:0.04483542591333389\n",
            "Loss:0.044801145792007446\n",
            "Loss:0.04476652294397354\n",
            "Loss:0.04473262280225754\n",
            "Loss:0.04469772428274155\n",
            "Loss:0.04466400295495987\n",
            "Loss:0.04462920501828194\n",
            "Loss:0.04459509998559952\n",
            "Epoch: 710 | Loss: 0.04459509998559952 | Test loss: 0.10421586036682129\n",
            "OrderedDict([('weights', tensor([0.4783])), ('bias', tensor([0.3931]))])\n",
            "Loss:0.04456067830324173\n",
            "Loss:0.044526197016239166\n",
            "Loss:0.04449216276407242\n",
            "Loss:0.04445730149745941\n",
            "Loss:0.04442364349961281\n",
            "Loss:0.04438873752951622\n",
            "Loss:0.04435477405786514\n",
            "Loss:0.04432021826505661\n",
            "Loss:0.04428587108850479\n",
            "Loss:0.044251699000597\n",
            "Epoch: 720 | Loss: 0.044251699000597 | Test loss: 0.10338860750198364\n",
            "OrderedDict([('weights', tensor([0.4800])), ('bias', tensor([0.3924]))])\n",
            "Loss:0.04421697184443474\n",
            "Loss:0.04418318346142769\n",
            "Loss:0.0441482812166214\n",
            "Loss:0.044114451855421066\n",
            "Loss:0.04407975822687149\n",
            "Loss:0.044045548886060715\n",
            "Loss:0.04401124268770218\n",
            "Loss:0.04397665709257126\n",
            "Loss:0.043942712247371674\n",
            "Loss:0.04390781372785568\n",
            "Epoch: 730 | Loss: 0.04390781372785568 | Test loss: 0.102561354637146\n",
            "OrderedDict([('weights', tensor([0.4817])), ('bias', tensor([0.3917]))])\n",
            "Loss:0.04387412592768669\n",
            "Loss:0.04383930191397667\n",
            "Loss:0.04380523040890694\n",
            "Loss:0.04377077519893646\n",
            "Loss:0.04373631998896599\n",
            "Loss:0.04370225965976715\n",
            "Loss:0.043667424470186234\n",
            "Loss:0.043633729219436646\n",
            "Loss:0.04359883442521095\n",
            "Loss:0.04356490075588226\n",
            "Epoch: 740 | Loss: 0.04356490075588226 | Test loss: 0.1018027514219284\n",
            "OrderedDict([('weights', tensor([0.4834])), ('bias', tensor([0.3909]))])\n",
            "Loss:0.043530307710170746\n",
            "Loss:0.04349600151181221\n",
            "Loss:0.04346179589629173\n",
            "Loss:0.04342710226774216\n",
            "Loss:0.04339327663183212\n",
            "Loss:0.04335837438702583\n",
            "Loss:0.04332457855343819\n",
            "Loss:0.043289851397275925\n",
            "Loss:0.043255675584077835\n",
            "Loss:0.043221332132816315\n",
            "Epoch: 750 | Loss: 0.043221332132816315 | Test loss: 0.10097551345825195\n",
            "OrderedDict([('weights', tensor([0.4851])), ('bias', tensor([0.3902]))])\n",
            "Loss:0.04318678379058838\n",
            "Loss:0.043152812868356705\n",
            "Loss:0.043117910623550415\n",
            "Loss:0.04308425635099411\n",
            "Loss:0.043049395084381104\n",
            "Loss:0.04301535338163376\n",
            "Loss:0.0429808683693409\n",
            "Loss:0.04294645041227341\n",
            "Loss:0.042912352830171585\n",
            "Loss:0.042877547442913055\n",
            "Epoch: 760 | Loss: 0.042877547442913055 | Test loss: 0.10021688789129257\n",
            "OrderedDict([('weights', tensor([0.4868])), ('bias', tensor([0.3895]))])\n",
            "Loss:0.04284382611513138\n",
            "Loss:0.042808931320905685\n",
            "Loss:0.04277503117918968\n",
            "Loss:0.04274040833115578\n",
            "Loss:0.04270612820982933\n",
            "Loss:0.04267188906669617\n",
            "Loss:0.04263722151517868\n",
            "Loss:0.04260336980223656\n",
            "Loss:0.042568452656269073\n",
            "Loss:0.04253470152616501\n",
            "Epoch: 770 | Loss: 0.04253470152616501 | Test loss: 0.09938966482877731\n",
            "OrderedDict([('weights', tensor([0.4886])), ('bias', tensor([0.3888]))])\n",
            "Loss:0.042499952018260956\n",
            "Loss:0.042465802282094955\n",
            "Loss:0.042431432753801346\n",
            "Loss:0.0423969104886055\n",
            "Loss:0.04236290976405144\n",
            "Loss:0.04232800751924515\n",
            "Loss:0.04229438304901123\n",
            "Loss:0.04225948825478554\n",
            "Loss:0.04222548007965088\n",
            "Loss:0.04219096526503563\n",
            "Epoch: 780 | Loss: 0.04219096526503563 | Test loss: 0.09856240451335907\n",
            "OrderedDict([('weights', tensor([0.4903])), ('bias', tensor([0.3881]))])\n",
            "Loss:0.042156580835580826\n",
            "Loss:0.04212244972586632\n",
            "Loss:0.04208768159151077\n",
            "Loss:0.04205392673611641\n",
            "Loss:0.04201902821660042\n",
            "Loss:0.041985154151916504\n",
            "Loss:0.04195050150156021\n",
            "Loss:0.04191625863313675\n",
            "Loss:0.0418819896876812\n",
            "Loss:0.0418473556637764\n",
            "Epoch: 790 | Loss: 0.0418473556637764 | Test loss: 0.09780382364988327\n",
            "OrderedDict([('weights', tensor([0.4920])), ('bias', tensor([0.3873]))])\n",
            "Loss:0.04181347042322159\n",
            "Loss:0.041778564453125\n",
            "Loss:0.041744835674762726\n",
            "Loss:0.04171004518866539\n",
            "Loss:0.041675932705402374\n",
            "Loss:0.04164152964949608\n",
            "Loss:0.04160703718662262\n",
            "Loss:0.04157300293445587\n",
            "Loss:0.04153813049197197\n",
            "Loss:0.04150448739528656\n",
            "Epoch: 800 | Loss: 0.04150448739528656 | Test loss: 0.09697656333446503\n",
            "OrderedDict([('weights', tensor([0.4937])), ('bias', tensor([0.3866]))])\n",
            "Loss:0.04146958142518997\n",
            "Loss:0.0414356105029583\n",
            "Loss:0.041401058435440063\n",
            "Loss:0.041366707533597946\n",
            "Loss:0.04133254662156105\n",
            "Loss:0.04129781574010849\n",
            "Loss:0.04126402363181114\n",
            "Loss:0.04122912138700485\n",
            "Loss:0.041195280849933624\n",
            "Loss:0.04116060212254524\n",
            "Epoch: 810 | Loss: 0.04116060212254524 | Test loss: 0.09614931792020798\n",
            "OrderedDict([('weights', tensor([0.4954])), ('bias', tensor([0.3859]))])\n",
            "Loss:0.04112637788057327\n",
            "Loss:0.041092079132795334\n",
            "Loss:0.04105747863650322\n",
            "Loss:0.041023559868335724\n",
            "Loss:0.04098866134881973\n",
            "Loss:0.04095495864748955\n",
            "Loss:0.040920138359069824\n",
            "Loss:0.040886059403419495\n",
            "Loss:0.04085162281990051\n",
            "Loss:0.04081716015934944\n",
            "Epoch: 820 | Loss: 0.04081716015934944 | Test loss: 0.09539072960615158\n",
            "OrderedDict([('weights', tensor([0.4971])), ('bias', tensor([0.3852]))])\n",
            "Loss:0.040783096104860306\n",
            "Loss:0.04074825718998909\n",
            "Loss:0.040714580565690994\n",
            "Loss:0.040679682046175\n",
            "Loss:0.04064574092626572\n",
            "Loss:0.040611155331134796\n",
            "Loss:0.040576837956905365\n",
            "Loss:0.040542639791965485\n",
            "Loss:0.04050793498754501\n",
            "Loss:0.040474116802215576\n",
            "Epoch: 830 | Loss: 0.040474116802215576 | Test loss: 0.09456346929073334\n",
            "OrderedDict([('weights', tensor([0.4988])), ('bias', tensor([0.3845]))])\n",
            "Loss:0.040439214557409286\n",
            "Loss:0.040405407547950745\n",
            "Loss:0.040370699018239975\n",
            "Loss:0.04033650830388069\n",
            "Loss:0.04030217230319977\n",
            "Loss:0.04026760905981064\n",
            "Loss:0.04023365303874016\n",
            "Loss:0.04019875079393387\n",
            "Loss:0.04016508907079697\n",
            "Loss:0.04013023525476456\n",
            "Epoch: 840 | Loss: 0.04013023525476456 | Test loss: 0.0937361866235733\n",
            "OrderedDict([('weights', tensor([0.5005])), ('bias', tensor([0.3838]))])\n",
            "Loss:0.040096182376146317\n",
            "Loss:0.04006170481443405\n",
            "Loss:0.040027279406785965\n",
            "Loss:0.039993178099393845\n",
            "Loss:0.03995837643742561\n",
            "Loss:0.039924658834934235\n",
            "Loss:0.039889752864837646\n",
            "Loss:0.03985584154725075\n",
            "Loss:0.03982122987508774\n",
            "Loss:0.039786942303180695\n",
            "Epoch: 850 | Loss: 0.039786942303180695 | Test loss: 0.09297747910022736\n",
            "OrderedDict([('weights', tensor([0.5022])), ('bias', tensor([0.3830]))])\n",
            "Loss:0.03975269943475723\n",
            "Loss:0.039718031883239746\n",
            "Loss:0.039684176445007324\n",
            "Loss:0.039649270474910736\n",
            "Loss:0.039615508168935776\n",
            "Loss:0.039580751210451126\n",
            "Loss:0.039546601474285126\n",
            "Loss:0.03951222449541092\n",
            "Loss:0.039477698504924774\n",
            "Loss:0.03944369778037071\n",
            "Epoch: 860 | Loss: 0.03944369778037071 | Test loss: 0.09215010702610016\n",
            "OrderedDict([('weights', tensor([0.5039])), ('bias', tensor([0.3823]))])\n",
            "Loss:0.03940879553556442\n",
            "Loss:0.03937516734004021\n",
            "Loss:0.039340268820524216\n",
            "Loss:0.03930626064538956\n",
            "Loss:0.039271749556064606\n",
            "Loss:0.03923735022544861\n",
            "Loss:0.0392032191157341\n",
            "Loss:0.03916844353079796\n",
            "Loss:0.039134688675403595\n",
            "Loss:0.0390997938811779\n",
            "Epoch: 870 | Loss: 0.0390997938811779 | Test loss: 0.09132273495197296\n",
            "OrderedDict([('weights', tensor([0.5057])), ('bias', tensor([0.3816]))])\n",
            "Loss:0.039065923541784286\n",
            "Loss:0.039031267166137695\n",
            "Loss:0.038997020572423935\n",
            "Loss:0.03896274045109749\n",
            "Loss:0.038928113877773285\n",
            "Loss:0.03889422118663788\n",
            "Loss:0.03885931894183159\n",
            "Loss:0.03882558271288872\n",
            "Loss:0.038790784776210785\n",
            "Loss:0.038756679743528366\n",
            "Epoch: 880 | Loss: 0.038756679743528366 | Test loss: 0.09056402742862701\n",
            "OrderedDict([('weights', tensor([0.5073])), ('bias', tensor([0.3809]))])\n",
            "Loss:0.03872226923704147\n",
            "Loss:0.038687773048877716\n",
            "Loss:0.038653742522001266\n",
            "Loss:0.03861887380480766\n",
            "Loss:0.03858520835638046\n",
            "Loss:0.03855030983686447\n",
            "Loss:0.0385163351893425\n",
            "Loss:0.03848179429769516\n",
            "Loss:0.038447435945272446\n",
            "Loss:0.038413263857364655\n",
            "Epoch: 890 | Loss: 0.038413263857364655 | Test loss: 0.08973666280508041\n",
            "OrderedDict([('weights', tensor([0.5091])), ('bias', tensor([0.3802]))])\n",
            "Loss:0.038378529250621796\n",
            "Loss:0.03834473714232445\n",
            "Loss:0.03830983489751816\n",
            "Loss:0.038276005536317825\n",
            "Loss:0.03824130818247795\n",
            "Loss:0.03820709139108658\n",
            "Loss:0.03817278519272804\n",
            "Loss:0.038138192147016525\n",
            "Loss:0.038104258477687836\n",
            "Loss:0.038069356232881546\n",
            "Epoch: 900 | Loss: 0.038069356232881546 | Test loss: 0.08890929073095322\n",
            "OrderedDict([('weights', tensor([0.5108])), ('bias', tensor([0.3795]))])\n",
            "Loss:0.038035668432712555\n",
            "Loss:0.03800082951784134\n",
            "Loss:0.037966761738061905\n",
            "Loss:0.03793231397867203\n",
            "Loss:0.037897855043411255\n",
            "Loss:0.03786378353834152\n",
            "Loss:0.0378289520740509\n",
            "Loss:0.03779524937272072\n",
            "Loss:0.037760358303785324\n",
            "Loss:0.037726424634456635\n",
            "Epoch: 910 | Loss: 0.037726424634456635 | Test loss: 0.08815059065818787\n",
            "OrderedDict([('weights', tensor([0.5125])), ('bias', tensor([0.3787]))])\n",
            "Loss:0.03769183158874512\n",
            "Loss:0.037657517939805984\n",
            "Loss:0.03762330859899521\n",
            "Loss:0.037588611245155334\n",
            "Loss:0.037554781883955\n",
            "Loss:0.03751988336443901\n",
            "Loss:0.037486083805561066\n",
            "Loss:0.037451352924108505\n",
            "Loss:0.037417180836200714\n",
            "Loss:0.0373828262090683\n",
            "Epoch: 920 | Loss: 0.0373828262090683 | Test loss: 0.08732322603464127\n",
            "OrderedDict([('weights', tensor([0.5142])), ('bias', tensor([0.3780]))])\n",
            "Loss:0.037348274141550064\n",
            "Loss:0.03731430321931839\n",
            "Loss:0.0372794046998024\n",
            "Loss:0.0372457355260849\n",
            "Loss:0.03721087425947189\n",
            "Loss:0.037176840007305145\n",
            "Loss:0.037142347544431686\n",
            "Loss:0.037107937037944794\n",
            "Loss:0.037073828279972076\n",
            "Loss:0.037039030343294144\n",
            "Epoch: 930 | Loss: 0.037039030343294144 | Test loss: 0.08656450361013412\n",
            "OrderedDict([('weights', tensor([0.5159])), ('bias', tensor([0.3773]))])\n",
            "Loss:0.03700530156493187\n",
            "Loss:0.03697039932012558\n",
            "Loss:0.036936502903699875\n",
            "Loss:0.03690187260508537\n",
            "Loss:0.036867596209049225\n",
            "Loss:0.036833349615335464\n",
            "Loss:0.03679869323968887\n",
            "Loss:0.03676481917500496\n",
            "Loss:0.03672991320490837\n",
            "Loss:0.036696165800094604\n",
            "Epoch: 940 | Loss: 0.036696165800094604 | Test loss: 0.08573714643716812\n",
            "OrderedDict([('weights', tensor([0.5176])), ('bias', tensor([0.3766]))])\n",
            "Loss:0.03666139394044876\n",
            "Loss:0.036627255380153656\n",
            "Loss:0.03659287095069885\n",
            "Loss:0.036558352410793304\n",
            "Loss:0.03652433305978775\n",
            "Loss:0.03648944944143295\n",
            "Loss:0.03645581752061844\n",
            "Loss:0.03642091900110245\n",
            "Loss:0.03638692572712898\n",
            "Loss:0.03635239601135254\n",
            "Epoch: 950 | Loss: 0.03635239601135254 | Test loss: 0.08490977436304092\n",
            "OrderedDict([('weights', tensor([0.5193])), ('bias', tensor([0.3759]))])\n",
            "Loss:0.036318015307188034\n",
            "Loss:0.036283861845731735\n",
            "Loss:0.036249108612537384\n",
            "Loss:0.03621533885598183\n",
            "Loss:0.036180444061756134\n",
            "Loss:0.036146584898233414\n",
            "Loss:0.03611191362142563\n",
            "Loss:0.036077678203582764\n",
            "Loss:0.03604338690638542\n",
            "Loss:0.03600877523422241\n",
            "Epoch: 960 | Loss: 0.03600877523422241 | Test loss: 0.08415107429027557\n",
            "OrderedDict([('weights', tensor([0.5210])), ('bias', tensor([0.3751]))])\n",
            "Loss:0.03597486764192581\n",
            "Loss:0.035939961671829224\n",
            "Loss:0.035906240344047546\n",
            "Loss:0.035871438682079315\n",
            "Loss:0.035837337374687195\n",
            "Loss:0.03580290824174881\n",
            "Loss:0.035768430680036545\n",
            "Loss:0.0357343852519989\n",
            "Loss:0.03569952771067619\n",
            "Loss:0.03566586226224899\n",
            "Epoch: 970 | Loss: 0.03566586226224899 | Test loss: 0.08332370221614838\n",
            "OrderedDict([('weights', tensor([0.5227])), ('bias', tensor([0.3744]))])\n",
            "Loss:0.0356309600174427\n",
            "Loss:0.035597000271081924\n",
            "Loss:0.0355624295771122\n",
            "Loss:0.03552809730172157\n",
            "Loss:0.03549390658736229\n",
            "Loss:0.03545919060707092\n",
            "Loss:0.03542538732290268\n",
            "Loss:0.03539048135280609\n",
            "Loss:0.035356663167476654\n",
            "Loss:0.03532196208834648\n",
            "Epoch: 980 | Loss: 0.03532196208834648 | Test loss: 0.08249632269144058\n",
            "OrderedDict([('weights', tensor([0.5244])), ('bias', tensor([0.3737]))])\n",
            "Loss:0.035287752747535706\n",
            "Loss:0.03525342792272568\n",
            "Loss:0.03521884232759476\n",
            "Loss:0.03518489748239517\n",
            "Loss:0.03515000268816948\n",
            "Loss:0.035116322338581085\n",
            "Loss:0.035081472247838974\n",
            "Loss:0.035047419369220734\n",
            "Loss:0.035012949258089066\n",
            "Loss:0.034978512674570084\n",
            "Epoch: 990 | Loss: 0.034978512674570084 | Test loss: 0.08173762261867523\n",
            "OrderedDict([('weights', tensor([0.5261])), ('bias', tensor([0.3730]))])\n",
            "Loss:0.034944429993629456\n",
            "Loss:0.03490961343050003\n",
            "Loss:0.03487590327858925\n",
            "Loss:0.03484099358320236\n",
            "Loss:0.034807078540325165\n",
            "Loss:0.03477247804403305\n",
            "Loss:0.034738171845674515\n",
            "Loss:0.034703951328992844\n",
            "Loss:0.03466926887631416\n",
            "Loss:0.03463542088866234\n",
            "Epoch: 1000 | Loss: 0.03463542088866234 | Test loss: 0.08091025054454803\n",
            "OrderedDict([('weights', tensor([0.5279])), ('bias', tensor([0.3723]))])\n",
            "Loss:0.03460051864385605\n",
            "Loss:0.0345667339861393\n",
            "Loss:0.03453200310468674\n",
            "Loss:0.03449783846735954\n",
            "Loss:0.03446347266435623\n",
            "Loss:0.034428928047418594\n",
            "Loss:0.034394945949316025\n",
            "Loss:0.034360043704509735\n",
            "Loss:0.034326404333114624\n",
            "Loss:0.03429151698946953\n",
            "Epoch: 1010 | Loss: 0.03429151698946953 | Test loss: 0.08008288592100143\n",
            "OrderedDict([('weights', tensor([0.5296])), ('bias', tensor([0.3716]))])\n",
            "Loss:0.034257497638463974\n",
            "Loss:0.03422299772500992\n",
            "Loss:0.03418859466910362\n",
            "Loss:0.03415446728467941\n",
            "Loss:0.03411968797445297\n",
            "Loss:0.03408593684434891\n",
            "Loss:0.034051038324832916\n",
            "Loss:0.034017156809568405\n",
            "Loss:0.03398251533508301\n",
            "Loss:0.033948253840208054\n",
            "Epoch: 1020 | Loss: 0.033948253840208054 | Test loss: 0.07932417094707489\n",
            "OrderedDict([('weights', tensor([0.5313])), ('bias', tensor([0.3708]))])\n",
            "Loss:0.0339139923453331\n",
            "Loss:0.0338793508708477\n",
            "Loss:0.033845458179712296\n",
            "Loss:0.0338105671107769\n",
            "Loss:0.03377682343125343\n",
            "Loss:0.03374204412102699\n",
            "Loss:0.03370791673660278\n",
            "Loss:0.033673517405986786\n",
            "Loss:0.03363901376724243\n",
            "Loss:0.03360499069094658\n",
            "Epoch: 1030 | Loss: 0.03360499069094658 | Test loss: 0.07849682867527008\n",
            "OrderedDict([('weights', tensor([0.5330])), ('bias', tensor([0.3701]))])\n",
            "Loss:0.03357011079788208\n",
            "Loss:0.033536456525325775\n",
            "Loss:0.03350156173110008\n",
            "Loss:0.03346758335828781\n",
            "Loss:0.033433035016059875\n",
            "Loss:0.033398669213056564\n",
            "Loss:0.03336451202630997\n",
            "Loss:0.03332976624369621\n",
            "Loss:0.03329598158597946\n",
            "Loss:0.03326108306646347\n",
            "Epoch: 1040 | Loss: 0.03326108306646347 | Test loss: 0.07766944915056229\n",
            "OrderedDict([('weights', tensor([0.5347])), ('bias', tensor([0.3694]))])\n",
            "Loss:0.03322724252939224\n",
            "Loss:0.033192556351423264\n",
            "Loss:0.03315833956003189\n",
            "Loss:0.033124037086963654\n",
            "Loss:0.03308942914009094\n",
            "Loss:0.03305550664663315\n",
            "Loss:0.03302060812711716\n",
            "Loss:0.032986901700496674\n",
            "Loss:0.03295208513736725\n",
            "Loss:0.032917995005846024\n",
            "Epoch: 1050 | Loss: 0.032917995005846024 | Test loss: 0.07691071927547455\n",
            "OrderedDict([('weights', tensor([0.5364])), ('bias', tensor([0.3687]))])\n",
            "Loss:0.03288356214761734\n",
            "Loss:0.03284909203648567\n",
            "Loss:0.032815027981996536\n",
            "Loss:0.032780181616544724\n",
            "Loss:0.032746508717536926\n",
            "Loss:0.03271159529685974\n",
            "Loss:0.03267765790224075\n",
            "Loss:0.03264307975769043\n",
            "Loss:0.0326087549328804\n",
            "Loss:0.03257454186677933\n",
            "Epoch: 1060 | Loss: 0.03257454186677933 | Test loss: 0.07608335465192795\n",
            "OrderedDict([('weights', tensor([0.5381])), ('bias', tensor([0.3680]))])\n",
            "Loss:0.03253985196352005\n",
            "Loss:0.032506026327610016\n",
            "Loss:0.032471127808094025\n",
            "Loss:0.03243732452392578\n",
            "Loss:0.032402604818344116\n",
            "Loss:0.03236841410398483\n",
            "Loss:0.03233407810330391\n",
            "Loss:0.03229950740933418\n",
            "Loss:0.032265547662973404\n",
            "Loss:0.03223065659403801\n",
            "Epoch: 1070 | Loss: 0.03223065659403801 | Test loss: 0.07525600492954254\n",
            "OrderedDict([('weights', tensor([0.5398])), ('bias', tensor([0.3673]))])\n",
            "Loss:0.032196979969739914\n",
            "Loss:0.032162122428417206\n",
            "Loss:0.03212807700037956\n",
            "Loss:0.032093595713377\n",
            "Loss:0.03205917030572891\n",
            "Loss:0.03202507644891739\n",
            "Loss:0.03199026733636856\n",
            "Loss:0.031956546008586884\n",
            "Loss:0.03192164748907089\n",
            "Loss:0.031887736171483994\n",
            "Epoch: 1080 | Loss: 0.031887736171483994 | Test loss: 0.074497289955616\n",
            "OrderedDict([('weights', tensor([0.5415])), ('bias', tensor([0.3665]))])\n",
            "Loss:0.03185311704874039\n",
            "Loss:0.031818829476833344\n",
            "Loss:0.03178459405899048\n",
            "Loss:0.03174992650747299\n",
            "Loss:0.03171607106924057\n",
            "Loss:0.03168116882443428\n",
            "Loss:0.03164739906787872\n",
            "Loss:0.031612642109394073\n",
            "Loss:0.03157849609851837\n",
            "Loss:0.03154411539435387\n",
            "Epoch: 1090 | Loss: 0.03154411539435387 | Test loss: 0.0736699253320694\n",
            "OrderedDict([('weights', tensor([0.5432])), ('bias', tensor([0.3658]))])\n",
            "Loss:0.03150959685444832\n",
            "Loss:0.03147559240460396\n",
            "Loss:0.03144068643450737\n",
            "Loss:0.03140706196427345\n",
            "Loss:0.03137217089533806\n",
            "Loss:0.031338147819042206\n",
            "Loss:0.031303636729717255\n",
            "Loss:0.031269241124391556\n",
            "Loss:0.0312351081520319\n",
            "Loss:0.031200343742966652\n",
            "Epoch: 1100 | Loss: 0.031200343742966652 | Test loss: 0.07291121780872345\n",
            "OrderedDict([('weights', tensor([0.5449])), ('bias', tensor([0.3651]))])\n",
            "Loss:0.03116658329963684\n",
            "Loss:0.03113168478012085\n",
            "Loss:0.03109782002866268\n",
            "Loss:0.031063159927725792\n",
            "Loss:0.031028911471366882\n",
            "Loss:0.030994638800621033\n",
            "Loss:0.03096001222729683\n",
            "Loss:0.030926112085580826\n",
            "Loss:0.03089120425283909\n",
            "Loss:0.030857479199767113\n",
            "Epoch: 1110 | Loss: 0.030857479199767113 | Test loss: 0.07208383828401566\n",
            "OrderedDict([('weights', tensor([0.5467])), ('bias', tensor([0.3644]))])\n",
            "Loss:0.03082268498837948\n",
            "Loss:0.030788570642471313\n",
            "Loss:0.03075416013598442\n",
            "Loss:0.030719667673110962\n",
            "Loss:0.030685629695653915\n",
            "Loss:0.03065076470375061\n",
            "Loss:0.03061710298061371\n",
            "Loss:0.030582213774323463\n",
            "Loss:0.030548235401511192\n",
            "Loss:0.03051367960870266\n",
            "Epoch: 1120 | Loss: 0.03051367960870266 | Test loss: 0.07125648111104965\n",
            "OrderedDict([('weights', tensor([0.5484])), ('bias', tensor([0.3637]))])\n",
            "Loss:0.03047933056950569\n",
            "Loss:0.0304451584815979\n",
            "Loss:0.03041042387485504\n",
            "Loss:0.030376631766557693\n",
            "Loss:0.030341725796461105\n",
            "Loss:0.030307894572615623\n",
            "Loss:0.030273202806711197\n",
            "Loss:0.030238991603255272\n",
            "Loss:0.03020467422902584\n",
            "Loss:0.03017008863389492\n",
            "Epoch: 1130 | Loss: 0.03017008863389492 | Test loss: 0.07049776613712311\n",
            "OrderedDict([('weights', tensor([0.5501])), ('bias', tensor([0.3629]))])\n",
            "Loss:0.030136147513985634\n",
            "Loss:0.030101245269179344\n",
            "Loss:0.030067557469010353\n",
            "Loss:0.030032729730010033\n",
            "Loss:0.02999865636229515\n",
            "Loss:0.029964199289679527\n",
            "Loss:0.02992975153028965\n",
            "Loss:0.029895666986703873\n",
            "Loss:0.0298608485609293\n",
            "Loss:0.029827147722244263\n",
            "Epoch: 1140 | Loss: 0.029827147722244263 | Test loss: 0.0696704089641571\n",
            "OrderedDict([('weights', tensor([0.5518])), ('bias', tensor([0.3622]))])\n",
            "Loss:0.02979225292801857\n",
            "Loss:0.029758315533399582\n",
            "Loss:0.029723724350333214\n",
            "Loss:0.02968941070139408\n",
            "Loss:0.02965519391000271\n",
            "Loss:0.02962050959467888\n",
            "Loss:0.0295866671949625\n",
            "Loss:0.02955177053809166\n",
            "Loss:0.02951798215508461\n",
            "Loss:0.029483243823051453\n",
            "Epoch: 1150 | Loss: 0.029483243823051453 | Test loss: 0.0688430517911911\n",
            "OrderedDict([('weights', tensor([0.5535])), ('bias', tensor([0.3615]))])\n",
            "Loss:0.02944907173514366\n",
            "Loss:0.029414722695946693\n",
            "Loss:0.02938016690313816\n",
            "Loss:0.029346192255616188\n",
            "Loss:0.0293112900108099\n",
            "Loss:0.02927764691412449\n",
            "Loss:0.02924276515841484\n",
            "Loss:0.02920873835682869\n",
            "Loss:0.02917424403131008\n",
            "Loss:0.02913982793688774\n",
            "Epoch: 1160 | Loss: 0.02913982793688774 | Test loss: 0.06808432936668396\n",
            "OrderedDict([('weights', tensor([0.5552])), ('bias', tensor([0.3608]))])\n",
            "Loss:0.029105717316269875\n",
            "Loss:0.02907092496752739\n",
            "Loss:0.02903718873858452\n",
            "Loss:0.029002293944358826\n",
            "Loss:0.028968393802642822\n",
            "Loss:0.028933769091963768\n",
            "Loss:0.028899487107992172\n",
            "Loss:0.028865236788988113\n",
            "Loss:0.02883058413863182\n",
            "Loss:0.028796717524528503\n",
            "Epoch: 1170 | Loss: 0.028796717524528503 | Test loss: 0.06725695729255676\n",
            "OrderedDict([('weights', tensor([0.5569])), ('bias', tensor([0.3601]))])\n",
            "Loss:0.028761809691786766\n",
            "Loss:0.028728056699037552\n",
            "Loss:0.028693288564682007\n",
            "Loss:0.0286591537296772\n",
            "Loss:0.028624754399061203\n",
            "Loss:0.02859025076031685\n",
            "Loss:0.02855624258518219\n",
            "Loss:0.0285213403403759\n",
            "Loss:0.028487712144851685\n",
            "Loss:0.028452813625335693\n",
            "Epoch: 1180 | Loss: 0.028452813625335693 | Test loss: 0.06642958521842957\n",
            "OrderedDict([('weights', tensor([0.5586])), ('bias', tensor([0.3594]))])\n",
            "Loss:0.02841881290078163\n",
            "Loss:0.028384283185005188\n",
            "Loss:0.02834990620613098\n",
            "Loss:0.02831575833261013\n",
            "Loss:0.028281008824706078\n",
            "Loss:0.028247231617569923\n",
            "Loss:0.028212333098053932\n",
            "Loss:0.028178473934531212\n",
            "Loss:0.028143804520368576\n",
            "Loss:0.02810956910252571\n",
            "Epoch: 1190 | Loss: 0.02810956910252571 | Test loss: 0.06567089259624481\n",
            "OrderedDict([('weights', tensor([0.5603])), ('bias', tensor([0.3586]))])\n",
            "Loss:0.028075283393263817\n",
            "Loss:0.02804066613316536\n",
            "Loss:0.02800675667822361\n",
            "Loss:0.02797185815870762\n",
            "Loss:0.027938133105635643\n",
            "Loss:0.027903327718377113\n",
            "Loss:0.02786923013627529\n",
            "Loss:0.027834806591272354\n",
            "Loss:0.02780032716691494\n",
            "Loss:0.027766281738877296\n",
            "Epoch: 1200 | Loss: 0.027766281738877296 | Test loss: 0.06484352052211761\n",
            "OrderedDict([('weights', tensor([0.5620])), ('bias', tensor([0.3579]))])\n",
            "Loss:0.02773142419755459\n",
            "Loss:0.02769775129854679\n",
            "Loss:0.0276628490537405\n",
            "Loss:0.02762889489531517\n",
            "Loss:0.027594327926635742\n",
            "Loss:0.027559995651245117\n",
            "Loss:0.027525801211595535\n",
            "Loss:0.02749108150601387\n",
            "Loss:0.02745727263391018\n",
            "Loss:0.027422379702329636\n",
            "Epoch: 1210 | Loss: 0.027422379702329636 | Test loss: 0.06401614844799042\n",
            "OrderedDict([('weights', tensor([0.5637])), ('bias', tensor([0.3572]))])\n",
            "Loss:0.027388552203774452\n",
            "Loss:0.027353843674063683\n",
            "Loss:0.027319643646478653\n",
            "Loss:0.027285316959023476\n",
            "Loss:0.02725074253976345\n",
            "Loss:0.027216792106628418\n",
            "Loss:0.027181893587112427\n",
            "Loss:0.02714822068810463\n",
            "Loss:0.02711336873471737\n",
            "Loss:0.02707931399345398\n",
            "Epoch: 1220 | Loss: 0.02707931399345398 | Test loss: 0.06325743347406387\n",
            "OrderedDict([('weights', tensor([0.5654])), ('bias', tensor([0.3565]))])\n",
            "Loss:0.02704485133290291\n",
            "Loss:0.027010411024093628\n",
            "Loss:0.026976320892572403\n",
            "Loss:0.02694149687886238\n",
            "Loss:0.026907796040177345\n",
            "Loss:0.026872893795371056\n",
            "Loss:0.026838969439268112\n",
            "Loss:0.026804368942975998\n",
            "Loss:0.02677006646990776\n",
            "Loss:0.026735838502645493\n",
            "Epoch: 1230 | Loss: 0.026735838502645493 | Test loss: 0.062430065125226974\n",
            "OrderedDict([('weights', tensor([0.5672])), ('bias', tensor([0.3558]))])\n",
            "Loss:0.02670116163790226\n",
            "Loss:0.026667311787605286\n",
            "Loss:0.026632418856024742\n",
            "Loss:0.02659863792359829\n",
            "Loss:0.026563886553049088\n",
            "Loss:0.02652972936630249\n",
            "Loss:0.026495367288589478\n",
            "Loss:0.02646082267165184\n",
            "Loss:0.026426836848258972\n",
            "Loss:0.026391934603452682\n",
            "Epoch: 1240 | Loss: 0.026391934603452682 | Test loss: 0.061602700501680374\n",
            "OrderedDict([('weights', tensor([0.5689])), ('bias', tensor([0.3551]))])\n",
            "Loss:0.02635829523205757\n",
            "Loss:0.026323411613702774\n",
            "Loss:0.02628939226269722\n",
            "Loss:0.026254886761307716\n",
            "Loss:0.02622048929333687\n",
            "Loss:0.02618635818362236\n",
            "Loss:0.026151573285460472\n",
            "Loss:0.026117831468582153\n",
            "Loss:0.02608293853700161\n",
            "Loss:0.0260490570217371\n",
            "Epoch: 1250 | Loss: 0.0260490570217371 | Test loss: 0.06084398552775383\n",
            "OrderedDict([('weights', tensor([0.5706])), ('bias', tensor([0.3543]))])\n",
            "Loss:0.026014408096671104\n",
            "Loss:0.0259801484644413\n",
            "Loss:0.02594587579369545\n",
            "Loss:0.025911245495080948\n",
            "Loss:0.02587735652923584\n",
            "Loss:0.025842461735010147\n",
            "Loss:0.02580871619284153\n",
            "Loss:0.02577393315732479\n",
            "Loss:0.02573981322348118\n",
            "Loss:0.025705406442284584\n",
            "Epoch: 1260 | Loss: 0.025705406442284584 | Test loss: 0.060016654431819916\n",
            "OrderedDict([('weights', tensor([0.5723])), ('bias', tensor([0.3536]))])\n",
            "Loss:0.025670910254120827\n",
            "Loss:0.02563687600195408\n",
            "Loss:0.025602001696825027\n",
            "Loss:0.02556835487484932\n",
            "Loss:0.02553345263004303\n",
            "Loss:0.02549947239458561\n",
            "Loss:0.02546493150293827\n",
            "Loss:0.025430569425225258\n",
            "Loss:0.025396401062607765\n",
            "Loss:0.02536166086792946\n",
            "Epoch: 1270 | Loss: 0.02536166086792946 | Test loss: 0.05925792455673218\n",
            "OrderedDict([('weights', tensor([0.5740])), ('bias', tensor([0.3529]))])\n",
            "Loss:0.025327879935503006\n",
            "Loss:0.025292973965406418\n",
            "Loss:0.02525913715362549\n",
            "Loss:0.02522445283830166\n",
            "Loss:0.02519022859632969\n",
            "Loss:0.02515592612326145\n",
            "Loss:0.025121325626969337\n",
            "Loss:0.025087397545576096\n",
            "Loss:0.025052502751350403\n",
            "Loss:0.02501879259943962\n",
            "Epoch: 1280 | Loss: 0.02501879259943962 | Test loss: 0.058430541306734085\n",
            "OrderedDict([('weights', tensor([0.5757])), ('bias', tensor([0.3522]))])\n",
            "Loss:0.024983976036310196\n",
            "Loss:0.02494988963007927\n",
            "Loss:0.02491544559597969\n",
            "Loss:0.02488098293542862\n",
            "Loss:0.02484692633152008\n",
            "Loss:0.02481207810342312\n",
            "Loss:0.024778395891189575\n",
            "Loss:0.024743497371673584\n",
            "Loss:0.024709552526474\n",
            "Loss:0.02467496693134308\n",
            "Epoch: 1290 | Loss: 0.02467496693134308 | Test loss: 0.057603172957897186\n",
            "OrderedDict([('weights', tensor([0.5774])), ('bias', tensor([0.3515]))])\n",
            "Loss:0.024640649557113647\n",
            "Loss:0.024606451392173767\n",
            "Loss:0.024571740999817848\n",
            "Loss:0.024537919089198112\n",
            "Loss:0.02450302243232727\n",
            "Loss:0.02446921169757843\n",
            "Loss:0.024434491991996765\n",
            "Loss:0.02440030500292778\n",
            "Loss:0.024365965276956558\n",
            "Loss:0.024331411346793175\n",
            "Epoch: 1300 | Loss: 0.024331411346793175 | Test loss: 0.056844472885131836\n",
            "OrderedDict([('weights', tensor([0.5791])), ('bias', tensor([0.3507]))])\n",
            "Loss:0.0242974404245615\n",
            "Loss:0.02426254004240036\n",
            "Loss:0.02422887459397316\n",
            "Loss:0.024194015190005302\n",
            "Loss:0.02415996976196766\n",
            "Loss:0.024125492200255394\n",
            "Loss:0.024091064929962158\n",
            "Loss:0.024056963622570038\n",
            "Loss:0.024022158235311508\n",
            "Loss:0.02398843690752983\n",
            "Epoch: 1310 | Loss: 0.02398843690752983 | Test loss: 0.05601710081100464\n",
            "OrderedDict([('weights', tensor([0.5808])), ('bias', tensor([0.3500]))])\n",
            "Loss:0.02395353652536869\n",
            "Loss:0.02391963079571724\n",
            "Loss:0.02388501539826393\n",
            "Loss:0.02385072596371174\n",
            "Loss:0.023816488683223724\n",
            "Loss:0.023781822994351387\n",
            "Loss:0.023747961968183517\n",
            "Loss:0.023713061586022377\n",
            "Loss:0.023679295554757118\n",
            "Loss:0.02364453673362732\n",
            "Epoch: 1320 | Loss: 0.02364453673362732 | Test loss: 0.05518973991274834\n",
            "OrderedDict([('weights', tensor([0.5825])), ('bias', tensor([0.3493]))])\n",
            "Loss:0.023610394448041916\n",
            "Loss:0.023576010018587112\n",
            "Loss:0.023541482165455818\n",
            "Loss:0.023507481440901756\n",
            "Loss:0.023472584784030914\n",
            "Loss:0.02343895100057125\n",
            "Loss:0.02340405248105526\n",
            "Loss:0.02337004244327545\n",
            "Loss:0.023335527628660202\n",
            "Loss:0.0233011431992054\n",
            "Epoch: 1330 | Loss: 0.0233011431992054 | Test loss: 0.05443102866411209\n",
            "OrderedDict([('weights', tensor([0.5842])), ('bias', tensor([0.3486]))])\n",
            "Loss:0.023267000913619995\n",
            "Loss:0.0232322346419096\n",
            "Loss:0.023198481649160385\n",
            "Loss:0.023163579404354095\n",
            "Loss:0.023129712790250778\n",
            "Loss:0.023095058277249336\n",
            "Loss:0.023060809820890427\n",
            "Loss:0.02302652969956398\n",
            "Loss:0.02299189567565918\n",
            "Loss:0.022958004847168922\n",
            "Epoch: 1340 | Loss: 0.022958004847168922 | Test loss: 0.05360366776585579\n",
            "OrderedDict([('weights', tensor([0.5860])), ('bias', tensor([0.3479]))])\n",
            "Loss:0.022923102602362633\n",
            "Loss:0.02288937196135521\n",
            "Loss:0.022854577749967575\n",
            "Loss:0.022820468991994858\n",
            "Loss:0.02278604544699192\n",
            "Loss:0.02275155857205391\n",
            "Loss:0.022717520594596863\n",
            "Loss:0.022682663053274155\n",
            "Loss:0.022648993879556656\n",
            "Loss:0.022614095360040665\n",
            "Epoch: 1350 | Loss: 0.022614095360040665 | Test loss: 0.05277629941701889\n",
            "OrderedDict([('weights', tensor([0.5877])), ('bias', tensor([0.3472]))])\n",
            "Loss:0.02258012816309929\n",
            "Loss:0.022545576095581055\n",
            "Loss:0.022511223331093788\n",
            "Loss:0.02247704565525055\n",
            "Loss:0.022442316636443138\n",
            "Loss:0.02240852452814579\n",
            "Loss:0.0223736222833395\n",
            "Loss:0.02233979105949402\n",
            "Loss:0.022305095568299294\n",
            "Loss:0.022270886227488518\n",
            "Epoch: 1360 | Loss: 0.022270886227488518 | Test loss: 0.05201758071780205\n",
            "OrderedDict([('weights', tensor([0.5894])), ('bias', tensor([0.3464]))])\n",
            "Loss:0.022236566990613937\n",
            "Loss:0.02220197394490242\n",
            "Loss:0.02216804213821888\n",
            "Loss:0.02213314361870289\n",
            "Loss:0.022099453955888748\n",
            "Loss:0.02206462062895298\n",
            "Loss:0.022030547261238098\n",
            "Loss:0.021996090188622475\n",
            "Loss:0.021961644291877747\n",
            "Loss:0.021927567198872566\n",
            "Epoch: 1370 | Loss: 0.021927567198872566 | Test loss: 0.05119022727012634\n",
            "OrderedDict([('weights', tensor([0.5911])), ('bias', tensor([0.3457]))])\n",
            "Loss:0.021892741322517395\n",
            "Loss:0.02185904048383236\n",
            "Loss:0.021824141964316368\n",
            "Loss:0.021790210157632828\n",
            "Loss:0.02175561524927616\n",
            "Loss:0.021721309050917625\n",
            "Loss:0.021687084808945656\n",
            "Loss:0.021652400493621826\n",
            "Loss:0.021618563681840897\n",
            "Loss:0.021583665162324905\n",
            "Epoch: 1380 | Loss: 0.021583665162324905 | Test loss: 0.05036286264657974\n",
            "OrderedDict([('weights', tensor([0.5928])), ('bias', tensor([0.3450]))])\n",
            "Loss:0.021549871191382408\n",
            "Loss:0.021515140309929848\n",
            "Loss:0.021480968222022057\n",
            "Loss:0.021446608006954193\n",
            "Loss:0.021412059664726257\n",
            "Loss:0.021378085017204285\n",
            "Loss:0.021343182772397995\n",
            "Loss:0.021309535950422287\n",
            "Loss:0.021274659782648087\n",
            "Loss:0.021240629255771637\n",
            "Epoch: 1390 | Loss: 0.021240629255771637 | Test loss: 0.0496041402220726\n",
            "OrderedDict([('weights', tensor([0.5945])), ('bias', tensor([0.3443]))])\n",
            "Loss:0.021206136792898178\n",
            "Loss:0.021171724423766136\n",
            "Loss:0.021137606352567673\n",
            "Loss:0.021102821454405785\n",
            "Loss:0.021069083362817764\n",
            "Loss:0.021034184843301773\n",
            "Loss:0.02100028656423092\n",
            "Loss:0.020965654402971268\n",
            "Loss:0.020931381732225418\n",
            "Loss:0.020897135138511658\n",
            "Epoch: 1400 | Loss: 0.020897135138511658 | Test loss: 0.048776768147945404\n",
            "OrderedDict([('weights', tensor([0.5962])), ('bias', tensor([0.3436]))])\n",
            "Loss:0.020862478762865067\n",
            "Loss:0.0208286065608263\n",
            "Loss:0.02079370617866516\n",
            "Loss:0.020759951323270798\n",
            "Loss:0.020725175738334656\n",
            "Loss:0.020691048353910446\n",
            "Loss:0.020656660199165344\n",
            "Loss:0.020622139796614647\n",
            "Loss:0.02058812789618969\n",
            "Loss:0.020553240552544594\n",
            "Epoch: 1410 | Loss: 0.020553240552544594 | Test loss: 0.04801806062459946\n",
            "OrderedDict([('weights', tensor([0.5979])), ('bias', tensor([0.3428]))])\n",
            "Loss:0.020519603043794632\n",
            "Loss:0.020484697073698044\n",
            "Loss:0.020450705662369728\n",
            "Loss:0.020416174083948135\n",
            "Loss:0.020381812006235123\n",
            "Loss:0.020347649231553078\n",
            "Loss:0.020312897861003876\n",
            "Loss:0.02027912437915802\n",
            "Loss:0.02024422399699688\n",
            "Loss:0.020210368558764458\n",
            "Epoch: 1420 | Loss: 0.020210368558764458 | Test loss: 0.04719070717692375\n",
            "OrderedDict([('weights', tensor([0.5996])), ('bias', tensor([0.3421]))])\n",
            "Loss:0.02017570100724697\n",
            "Loss:0.020141463726758957\n",
            "Loss:0.020107172429561615\n",
            "Loss:0.020072558894753456\n",
            "Loss:0.020038645714521408\n",
            "Loss:0.020003747195005417\n",
            "Loss:0.019970031455159187\n",
            "Loss:0.01993522047996521\n",
            "Loss:0.019901124760508537\n",
            "Loss:0.0198666974902153\n",
            "Epoch: 1430 | Loss: 0.0198666974902153 | Test loss: 0.046363331377506256\n",
            "OrderedDict([('weights', tensor([0.6013])), ('bias', tensor([0.3414]))])\n",
            "Loss:0.019832221791148186\n",
            "Loss:0.019798170775175095\n",
            "Loss:0.019763316959142685\n",
            "Loss:0.019729644060134888\n",
            "Loss:0.019694745540618896\n",
            "Loss:0.019660789519548416\n",
            "Loss:0.01962621882557869\n",
            "Loss:0.019591880962252617\n",
            "Loss:0.019557690247893333\n",
            "Loss:0.019522977992892265\n",
            "Epoch: 1440 | Loss: 0.019522977992892265 | Test loss: 0.04560462757945061\n",
            "OrderedDict([('weights', tensor([0.6030])), ('bias', tensor([0.3407]))])\n",
            "Loss:0.019489165395498276\n",
            "Loss:0.019454261288046837\n",
            "Loss:0.01942044124007225\n",
            "Loss:0.01938573457300663\n",
            "Loss:0.019351541996002197\n",
            "Loss:0.01931721344590187\n",
            "Loss:0.019282635301351547\n",
            "Loss:0.019248690456151962\n",
            "Loss:0.019213786348700523\n",
            "Loss:0.019180113449692726\n",
            "Epoch: 1450 | Loss: 0.019180113449692726 | Test loss: 0.04477725550532341\n",
            "OrderedDict([('weights', tensor([0.6047])), ('bias', tensor([0.3400]))])\n",
            "Loss:0.019145265221595764\n",
            "Loss:0.019111210480332375\n",
            "Loss:0.019076738506555557\n",
            "Loss:0.01904229447245598\n",
            "Loss:0.0190082136541605\n",
            "Loss:0.018973395228385925\n",
            "Loss:0.018939686939120293\n",
            "Loss:0.018904786556959152\n",
            "Loss:0.018870871514081955\n",
            "Loss:0.018836256116628647\n",
            "Epoch: 1460 | Loss: 0.018836256116628647 | Test loss: 0.04394988343119621\n",
            "OrderedDict([('weights', tensor([0.6065])), ('bias', tensor([0.3393]))])\n",
            "Loss:0.018801961094141006\n",
            "Loss:0.01876772940158844\n",
            "Loss:0.018733063712716103\n",
            "Loss:0.018699202686548233\n",
            "Loss:0.018664304167032242\n",
            "Loss:0.018630528822541237\n",
            "Loss:0.018595783039927483\n",
            "Loss:0.018561622127890587\n",
            "Loss:0.018527258187532425\n",
            "Loss:0.018492717295885086\n",
            "Epoch: 1470 | Loss: 0.018492717295885086 | Test loss: 0.04319116473197937\n",
            "OrderedDict([('weights', tensor([0.6082])), ('bias', tensor([0.3385]))])\n",
            "Loss:0.018458733335137367\n",
            "Loss:0.018423831090331078\n",
            "Loss:0.018390189856290817\n",
            "Loss:0.01835530437529087\n",
            "Loss:0.018321286886930466\n",
            "Loss:0.018286775797605515\n",
            "Loss:0.018252374604344368\n",
            "Loss:0.018218250945210457\n",
            "Loss:0.018183477222919464\n",
            "Loss:0.018149731680750847\n",
            "Epoch: 1480 | Loss: 0.018149731680750847 | Test loss: 0.042363811284303665\n",
            "OrderedDict([('weights', tensor([0.6099])), ('bias', tensor([0.3378]))])\n",
            "Loss:0.018114829435944557\n",
            "Loss:0.018080946058034897\n",
            "Loss:0.018046298995614052\n",
            "Loss:0.018012046813964844\n",
            "Loss:0.017977776005864143\n",
            "Loss:0.017943140119314194\n",
            "Loss:0.017909249290823936\n",
            "Loss:0.017874350771307945\n",
            "Loss:0.017840612679719925\n",
            "Loss:0.01780582405626774\n",
            "Epoch: 1490 | Loss: 0.01780582405626774 | Test loss: 0.04153648018836975\n",
            "OrderedDict([('weights', tensor([0.6116])), ('bias', tensor([0.3371]))])\n",
            "Loss:0.017771709710359573\n",
            "Loss:0.017737293615937233\n",
            "Loss:0.017702799290418625\n",
            "Loss:0.017668772488832474\n",
            "Loss:0.017633894458413124\n",
            "Loss:0.017600249499082565\n",
            "Loss:0.017565349116921425\n",
            "Loss:0.017531368881464005\n",
            "Loss:0.01749681681394577\n",
            "Loss:0.017462462186813354\n",
            "Epoch: 1500 | Loss: 0.017462462186813354 | Test loss: 0.04077773168683052\n",
            "OrderedDict([('weights', tensor([0.6133])), ('bias', tensor([0.3364]))])\n",
            "Loss:0.01742829754948616\n",
            "Loss:0.017393553629517555\n",
            "Loss:0.017359768971800804\n",
            "Loss:0.017324870452284813\n",
            "Loss:0.017291026189923286\n",
            "Loss:0.017256345599889755\n",
            "Loss:0.017222123220562935\n",
            "Loss:0.0171878170222044\n",
            "Loss:0.017153222113847733\n",
            "Loss:0.01711929403245449\n",
            "Epoch: 1510 | Loss: 0.01711929403245449 | Test loss: 0.03995036333799362\n",
            "OrderedDict([('weights', tensor([0.6150])), ('bias', tensor([0.3357]))])\n",
            "Loss:0.01708439365029335\n",
            "Loss:0.017050687223672867\n",
            "Loss:0.017015863209962845\n",
            "Loss:0.016981782391667366\n",
            "Loss:0.016947342082858086\n",
            "Loss:0.016912877559661865\n",
            "Loss:0.01687881536781788\n",
            "Loss:0.016843974590301514\n",
            "Loss:0.01681029424071312\n",
            "Loss:0.016775384545326233\n",
            "Epoch: 1520 | Loss: 0.016775384545326233 | Test loss: 0.039122987538576126\n",
            "OrderedDict([('weights', tensor([0.6167])), ('bias', tensor([0.3350]))])\n",
            "Loss:0.016741449013352394\n",
            "Loss:0.016706865280866623\n",
            "Loss:0.016672540456056595\n",
            "Loss:0.016638336703181267\n",
            "Loss:0.016603639349341393\n",
            "Loss:0.01656980998814106\n",
            "Loss:0.01653490774333477\n",
            "Loss:0.016501104459166527\n",
            "Loss:0.016466384753584862\n",
            "Loss:0.01643221080303192\n",
            "Epoch: 1530 | Loss: 0.01643221080303192 | Test loss: 0.038364291191101074\n",
            "OrderedDict([('weights', tensor([0.6184])), ('bias', tensor([0.3342]))])\n",
            "Loss:0.016397858038544655\n",
            "Loss:0.016363296657800674\n",
            "Loss:0.016329335048794746\n",
            "Loss:0.016294434666633606\n",
            "Loss:0.016260769218206406\n",
            "Loss:0.0162259079515934\n",
            "Loss:0.016191862523555756\n",
            "Loss:0.016157381236553192\n",
            "Loss:0.016122957691550255\n",
            "Loss:0.016088854521512985\n",
            "Epoch: 1540 | Loss: 0.016088854521512985 | Test loss: 0.037536926567554474\n",
            "OrderedDict([('weights', tensor([0.6201])), ('bias', tensor([0.3335]))])\n",
            "Loss:0.016054054722189903\n",
            "Loss:0.016020333394408226\n",
            "Loss:0.015985431149601936\n",
            "Loss:0.015951525419950485\n",
            "Loss:0.01591690629720688\n",
            "Loss:0.015882622450590134\n",
            "Loss:0.015848379582166672\n",
            "Loss:0.015813717618584633\n",
            "Loss:0.015779852867126465\n",
            "Loss:0.015744954347610474\n",
            "Epoch: 1550 | Loss: 0.015744954347610474 | Test loss: 0.03670956566929817\n",
            "OrderedDict([('weights', tensor([0.6218])), ('bias', tensor([0.3328]))])\n",
            "Loss:0.015711190178990364\n",
            "Loss:0.015676427632570267\n",
            "Loss:0.015642281621694565\n",
            "Loss:0.01560789905488491\n",
            "Loss:0.015573377721011639\n",
            "Loss:0.015539373271167278\n",
            "Loss:0.015504470095038414\n",
            "Loss:0.015470841899514198\n",
            "Loss:0.015435943379998207\n",
            "Loss:0.01540194172412157\n",
            "Epoch: 1560 | Loss: 0.01540194172412157 | Test loss: 0.03595084697008133\n",
            "OrderedDict([('weights', tensor([0.6235])), ('bias', tensor([0.3321]))])\n",
            "Loss:0.015367421321570873\n",
            "Loss:0.015333035960793495\n",
            "Loss:0.015298898331820965\n",
            "Loss:0.015264132991433144\n",
            "Loss:0.015230374410748482\n",
            "Loss:0.015195474028587341\n",
            "Loss:0.015161609277129173\n",
            "Loss:0.01512694638222456\n",
            "Loss:0.015092695131897926\n",
            "Loss:0.015058422461152077\n",
            "Epoch: 1570 | Loss: 0.015058422461152077 | Test loss: 0.03512347489595413\n",
            "OrderedDict([('weights', tensor([0.6253])), ('bias', tensor([0.3314]))])\n",
            "Loss:0.015023794956505299\n",
            "Loss:0.01498989574611187\n",
            "Loss:0.014954996295273304\n",
            "Loss:0.014921268448233604\n",
            "Loss:0.01488646399229765\n",
            "Loss:0.014852359890937805\n",
            "Loss:0.014817938208580017\n",
            "Loss:0.014783459715545177\n",
            "Loss:0.014749410562217236\n",
            "Loss:0.014714548364281654\n",
            "Epoch: 1580 | Loss: 0.014714548364281654 | Test loss: 0.034364767372608185\n",
            "OrderedDict([('weights', tensor([0.6270])), ('bias', tensor([0.3306]))])\n",
            "Loss:0.014680889435112476\n",
            "Loss:0.01464599184691906\n",
            "Loss:0.01461202185600996\n",
            "Loss:0.014577466063201427\n",
            "Loss:0.014543118886649609\n",
            "Loss:0.014508943073451519\n",
            "Loss:0.014474213123321533\n",
            "Loss:0.014440417289733887\n",
            "Loss:0.01440550945699215\n",
            "Loss:0.014371685683727264\n",
            "Epoch: 1590 | Loss: 0.014371685683727264 | Test loss: 0.03353740647435188\n",
            "OrderedDict([('weights', tensor([0.6287])), ('bias', tensor([0.3299]))])\n",
            "Loss:0.014336985535919666\n",
            "Loss:0.014302777126431465\n",
            "Loss:0.014268459752202034\n",
            "Loss:0.014233875088393688\n",
            "Loss:0.01419993955641985\n",
            "Loss:0.014165038242936134\n",
            "Loss:0.014131346717476845\n",
            "Loss:0.01409650407731533\n",
            "Loss:0.014062446542084217\n",
            "Loss:0.014027985744178295\n",
            "Epoch: 1600 | Loss: 0.014027985744178295 | Test loss: 0.03271004557609558\n",
            "OrderedDict([('weights', tensor([0.6304])), ('bias', tensor([0.3292]))])\n",
            "Loss:0.013993537053465843\n",
            "Loss:0.013959458097815514\n",
            "Loss:0.013924631290137768\n",
            "Loss:0.013890931382775307\n",
            "Loss:0.013856032863259315\n",
            "Loss:0.013822108507156372\n",
            "Loss:0.01378750242292881\n",
            "Loss:0.013753202743828297\n",
            "Loss:0.013718980364501476\n",
            "Loss:0.013684293255209923\n",
            "Epoch: 1610 | Loss: 0.013684293255209923 | Test loss: 0.03195132687687874\n",
            "OrderedDict([('weights', tensor([0.6321])), ('bias', tensor([0.3285]))])\n",
            "Loss:0.013650457374751568\n",
            "Loss:0.013615556061267853\n",
            "Loss:0.013581769540905952\n",
            "Loss:0.013547027483582497\n",
            "Loss:0.013512861914932728\n",
            "Loss:0.013478505425155163\n",
            "Loss:0.013443956151604652\n",
            "Loss:0.013409977778792381\n",
            "Loss:0.01337507925927639\n",
            "Loss:0.013341426849365234\n",
            "Epoch: 1620 | Loss: 0.013341426849365234 | Test loss: 0.03112396039068699\n",
            "OrderedDict([('weights', tensor([0.6338])), ('bias', tensor([0.3278]))])\n",
            "Loss:0.013306552544236183\n",
            "Loss:0.013272523880004883\n",
            "Loss:0.013238024897873402\n",
            "Loss:0.013203620910644531\n",
            "Loss:0.013169502839446068\n",
            "Loss:0.013134715147316456\n",
            "Loss:0.013100981712341309\n",
            "Loss:0.013066073879599571\n",
            "Loss:0.013032181188464165\n",
            "Loss:0.012997552752494812\n",
            "Epoch: 1630 | Loss: 0.012997552752494812 | Test loss: 0.030296582728624344\n",
            "OrderedDict([('weights', tensor([0.6355])), ('bias', tensor([0.3271]))])\n",
            "Loss:0.012963280081748962\n",
            "Loss:0.01292902510613203\n",
            "Loss:0.012894374318420887\n",
            "Loss:0.012860502116382122\n",
            "Loss:0.012825590558350086\n",
            "Loss:0.012791847810149193\n",
            "Loss:0.012757077813148499\n",
            "Loss:0.012722939252853394\n",
            "Loss:0.01268854457885027\n",
            "Loss:0.012654039077460766\n",
            "Epoch: 1640 | Loss: 0.012654039077460766 | Test loss: 0.029537875205278397\n",
            "OrderedDict([('weights', tensor([0.6372])), ('bias', tensor([0.3263]))])\n",
            "Loss:0.012620019726455212\n",
            "Loss:0.012585127726197243\n",
            "Loss:0.012551498599350452\n",
            "Loss:0.012516593560576439\n",
            "Loss:0.01248260959982872\n",
            "Loss:0.012448068708181381\n",
            "Loss:0.012413694523274899\n",
            "Loss:0.012379543855786324\n",
            "Loss:0.012344792485237122\n",
            "Loss:0.012311016209423542\n",
            "Epoch: 1650 | Loss: 0.012311016209423542 | Test loss: 0.02871052548289299\n",
            "OrderedDict([('weights', tensor([0.6389])), ('bias', tensor([0.3256]))])\n",
            "Loss:0.012276114895939827\n",
            "Loss:0.012242263182997704\n",
            "Loss:0.012207590974867344\n",
            "Loss:0.012173361144959927\n",
            "Loss:0.012139063328504562\n",
            "Loss:0.012104453518986702\n",
            "Loss:0.012070542201399803\n",
            "Loss:0.012035638093948364\n",
            "Loss:0.012001924216747284\n",
            "Loss:0.011967116966843605\n",
            "Epoch: 1660 | Loss: 0.011967116966843605 | Test loss: 0.027883142232894897\n",
            "OrderedDict([('weights', tensor([0.6406])), ('bias', tensor([0.3249]))])\n",
            "Loss:0.011933022178709507\n",
            "Loss:0.011898588389158249\n",
            "Loss:0.011864116415381432\n",
            "Loss:0.011830059811472893\n",
            "Loss:0.01179521158337593\n",
            "Loss:0.011761545203626156\n",
            "Loss:0.011726636439561844\n",
            "Loss:0.011692679487168789\n",
            "Loss:0.011658108793199062\n",
            "Loss:0.011623779311776161\n",
            "Epoch: 1670 | Loss: 0.011623779311776161 | Test loss: 0.027124440297484398\n",
            "OrderedDict([('weights', tensor([0.6423])), ('bias', tensor([0.3242]))])\n",
            "Loss:0.011589582078158855\n",
            "Loss:0.011554867960512638\n",
            "Loss:0.011521058157086372\n",
            "Loss:0.011486148461699486\n",
            "Loss:0.01145234052091837\n",
            "Loss:0.011417633853852749\n",
            "Loss:0.011383436620235443\n",
            "Loss:0.011349106207489967\n",
            "Loss:0.011314532719552517\n",
            "Loss:0.011280583217740059\n",
            "Epoch: 1680 | Loss: 0.011280583217740059 | Test loss: 0.02629707381129265\n",
            "OrderedDict([('weights', tensor([0.6441])), ('bias', tensor([0.3235]))])\n",
            "Loss:0.01124568097293377\n",
            "Loss:0.011212009005248547\n",
            "Loss:0.011177157051861286\n",
            "Loss:0.011143097653985023\n",
            "Loss:0.01110863033682108\n",
            "Loss:0.011074193753302097\n",
            "Loss:0.011040104553103447\n",
            "Loss:0.011005290783941746\n",
            "Loss:0.010971576906740665\n",
            "Loss:0.01093667559325695\n",
            "Epoch: 1690 | Loss: 0.01093667559325695 | Test loss: 0.02546970173716545\n",
            "OrderedDict([('weights', tensor([0.6458])), ('bias', tensor([0.3228]))])\n",
            "Loss:0.010902758687734604\n",
            "Loss:0.01086814608424902\n",
            "Loss:0.010833858512341976\n",
            "Loss:0.010799618437886238\n",
            "Loss:0.010764947161078453\n",
            "Loss:0.010731097310781479\n",
            "Loss:0.010696200653910637\n",
            "Loss:0.010662423446774483\n",
            "Loss:0.01062767393887043\n",
            "Loss:0.010593519546091557\n",
            "Epoch: 1700 | Loss: 0.010593519546091557 | Test loss: 0.02471098303794861\n",
            "OrderedDict([('weights', tensor([0.6475])), ('bias', tensor([0.3220]))])\n",
            "Loss:0.010559151880443096\n",
            "Loss:0.010524613782763481\n",
            "Loss:0.010490626096725464\n",
            "Loss:0.010455721989274025\n",
            "Loss:0.010422085411846638\n",
            "Loss:0.010387194342911243\n",
            "Loss:0.010353175923228264\n",
            "Loss:0.010318668559193611\n",
            "Loss:0.010284275747835636\n",
            "Loss:0.010250149294734001\n",
            "Epoch: 1710 | Loss: 0.010250149294734001 | Test loss: 0.023883622139692307\n",
            "OrderedDict([('weights', tensor([0.6492])), ('bias', tensor([0.3213]))])\n",
            "Loss:0.01021537184715271\n",
            "Loss:0.010181616991758347\n",
            "Loss:0.010146712884306908\n",
            "Loss:0.010112845338881016\n",
            "Loss:0.010078193619847298\n",
            "Loss:0.010043937712907791\n",
            "Loss:0.01000966690480709\n",
            "Loss:0.00997503288090229\n",
            "Loss:0.009941142052412033\n",
            "Loss:0.009906241670250893\n",
            "Epoch: 1720 | Loss: 0.009906241670250893 | Test loss: 0.02305629849433899\n",
            "OrderedDict([('weights', tensor([0.6509])), ('bias', tensor([0.3206]))])\n",
            "Loss:0.009872508235275745\n",
            "Loss:0.009837711229920387\n",
            "Loss:0.00980360247194767\n",
            "Loss:0.009769189171493053\n",
            "Loss:0.00973469391465187\n",
            "Loss:0.009700666181743145\n",
            "Loss:0.00966578908264637\n",
            "Loss:0.00963213574141264\n",
            "Loss:0.009597238153219223\n",
            "Loss:0.009563261643052101\n",
            "Epoch: 1730 | Loss: 0.009563261643052101 | Test loss: 0.02229754999279976\n",
            "OrderedDict([('weights', tensor([0.6526])), ('bias', tensor([0.3199]))])\n",
            "Loss:0.009528713300824165\n",
            "Loss:0.009494355879724026\n",
            "Loss:0.009460186585783958\n",
            "Loss:0.009425449185073376\n",
            "Loss:0.009391664527356625\n",
            "Loss:0.00935676135122776\n",
            "Loss:0.009322922676801682\n",
            "Loss:0.009288233704864979\n",
            "Loss:0.00925401970744133\n",
            "Loss:0.009219711646437645\n",
            "Epoch: 1740 | Loss: 0.009219711646437645 | Test loss: 0.02147018350660801\n",
            "OrderedDict([('weights', tensor([0.6543])), ('bias', tensor([0.3192]))])\n",
            "Loss:0.009185113944113255\n",
            "Loss:0.009151190519332886\n",
            "Loss:0.009116283617913723\n",
            "Loss:0.009082580916583538\n",
            "Loss:0.00904776155948639\n",
            "Loss:0.009013679809868336\n",
            "Loss:0.008979232050478458\n",
            "Loss:0.00894477404654026\n",
            "Loss:0.0089107109233737\n",
            "Loss:0.008875859901309013\n",
            "Epoch: 1750 | Loss: 0.008875859901309013 | Test loss: 0.020711475983262062\n",
            "OrderedDict([('weights', tensor([0.6560])), ('bias', tensor([0.3184]))])\n",
            "Loss:0.008842182345688343\n",
            "Loss:0.008807285688817501\n",
            "Loss:0.008773338980972767\n",
            "Loss:0.008738754317164421\n",
            "Loss:0.00870443694293499\n",
            "Loss:0.008670227602124214\n",
            "Loss:0.00863553024828434\n",
            "Loss:0.008601706475019455\n",
            "Loss:0.008566802367568016\n",
            "Loss:0.008533009327948093\n",
            "Epoch: 1760 | Loss: 0.008533009327948093 | Test loss: 0.01988411508500576\n",
            "OrderedDict([('weights', tensor([0.6577])), ('bias', tensor([0.3177]))])\n",
            "Loss:0.00849827565252781\n",
            "Loss:0.008464094251394272\n",
            "Loss:0.0084297526627779\n",
            "Loss:0.008395192213356495\n",
            "Loss:0.008361225947737694\n",
            "Loss:0.008326325565576553\n",
            "Loss:0.008292661048471928\n",
            "Loss:0.008257800713181496\n",
            "Loss:0.00822375901043415\n",
            "Loss:0.00818927213549614\n",
            "Epoch: 1770 | Loss: 0.00818927213549614 | Test loss: 0.019056743010878563\n",
            "OrderedDict([('weights', tensor([0.6594])), ('bias', tensor([0.3170]))])\n",
            "Loss:0.0081548523157835\n",
            "Loss:0.00812075100839138\n",
            "Loss:0.008085948415100574\n",
            "Loss:0.008052224293351173\n",
            "Loss:0.008017323911190033\n",
            "Loss:0.007983422838151455\n",
            "Loss:0.007948799058794975\n",
            "Loss:0.00791451707482338\n",
            "Loss:0.00788026861846447\n",
            "Loss:0.007845611311495304\n",
            "Epoch: 1780 | Loss: 0.007845611311495304 | Test loss: 0.01829802431166172\n",
            "OrderedDict([('weights', tensor([0.6611])), ('bias', tensor([0.3163]))])\n",
            "Loss:0.007811754010617733\n",
            "Loss:0.007776845246553421\n",
            "Loss:0.0077430778183043\n",
            "Loss:0.0077083176001906395\n",
            "Loss:0.007674178574234247\n",
            "Loss:0.007639790885150433\n",
            "Loss:0.007605267222970724\n",
            "Loss:0.007571266032755375\n",
            "Loss:0.00753635773435235\n",
            "Loss:0.007502102758735418\n",
            "Epoch: 1790 | Loss: 0.007502102758735418 | Test loss: 0.01743636094033718\n",
            "OrderedDict([('weights', tensor([0.6629])), ('bias', tensor([0.3156]))])\n",
            "Loss:0.007468285970389843\n",
            "Loss:0.007433581165969372\n",
            "Loss:0.00739938672631979\n",
            "Loss:0.007365054450929165\n",
            "Loss:0.0073304809629917145\n",
            "Loss:0.007296524941921234\n",
            "Loss:0.0072616287507116795\n",
            "Loss:0.007227952592074871\n",
            "Loss:0.007193101104348898\n",
            "Loss:0.007159041706472635\n",
            "Epoch: 1800 | Loss: 0.007159041706472635 | Test loss: 0.016677623614668846\n",
            "OrderedDict([('weights', tensor([0.6646])), ('bias', tensor([0.3149]))])\n",
            "Loss:0.007124573923647404\n",
            "Loss:0.007090142462402582\n",
            "Loss:0.007056047208607197\n",
            "Loss:0.007021231111139059\n",
            "Loss:0.006987521890550852\n",
            "Loss:0.006952613592147827\n",
            "Loss:0.00691870367154479\n",
            "Loss:0.00688409898430109\n",
            "Loss:0.006849800236523151\n",
            "Loss:0.006815572734922171\n",
            "Epoch: 1810 | Loss: 0.006815572734922171 | Test loss: 0.01585027575492859\n",
            "OrderedDict([('weights', tensor([0.6663])), ('bias', tensor([0.3142]))])\n",
            "Loss:0.006780896335840225\n",
            "Loss:0.006747046019881964\n",
            "Loss:0.006712144706398249\n",
            "Loss:0.006678372621536255\n",
            "Loss:0.006643620319664478\n",
            "Loss:0.006609461270272732\n",
            "Loss:0.006575095001608133\n",
            "Loss:0.00654055830091238\n",
            "Loss:0.006506569683551788\n",
            "Loss:0.006471668835729361\n",
            "Epoch: 1820 | Loss: 0.006471668835729361 | Test loss: 0.015022903680801392\n",
            "OrderedDict([('weights', tensor([0.6680])), ('bias', tensor([0.3135]))])\n",
            "Loss:0.006438032723963261\n",
            "Loss:0.006403139792382717\n",
            "Loss:0.006369120441377163\n",
            "Loss:0.006334612611681223\n",
            "Loss:0.0063002207316458225\n",
            "Loss:0.0062660835683345795\n",
            "Loss:0.006231312640011311\n",
            "Loss:0.006197561975568533\n",
            "Loss:0.006162664387375116\n",
            "Loss:0.006128787063062191\n",
            "Epoch: 1830 | Loss: 0.006128787063062191 | Test loss: 0.014264184050261974\n",
            "OrderedDict([('weights', tensor([0.6697])), ('bias', tensor([0.3127]))])\n",
            "Loss:0.006094138137996197\n",
            "Loss:0.006059883628040552\n",
            "Loss:0.0060256170108914375\n",
            "Loss:0.005990978330373764\n",
            "Loss:0.005957090761512518\n",
            "Loss:0.005922186188399792\n",
            "Loss:0.005888448562473059\n",
            "Loss:0.0058536590076982975\n",
            "Loss:0.005819539539515972\n",
            "Loss:0.005785132758319378\n",
            "Epoch: 1840 | Loss: 0.005785132758319378 | Test loss: 0.013436829671263695\n",
            "OrderedDict([('weights', tensor([0.6714])), ('bias', tensor([0.3120]))])\n",
            "Loss:0.005750638898462057\n",
            "Loss:0.005716613493859768\n",
            "Loss:0.005681735463440418\n",
            "Loss:0.005648080259561539\n",
            "Loss:0.005613177083432674\n",
            "Loss:0.0055792080238461494\n",
            "Loss:0.005544658750295639\n",
            "Loss:0.005510301329195499\n",
            "Loss:0.005476132035255432\n",
            "Loss:0.005441397428512573\n",
            "Epoch: 1850 | Loss: 0.005441397428512573 | Test loss: 0.0126781165599823\n",
            "OrderedDict([('weights', tensor([0.6731])), ('bias', tensor([0.3113]))])\n",
            "Loss:0.005407606717199087\n",
            "Loss:0.005372708197683096\n",
            "Loss:0.005338872317224741\n",
            "Loss:0.005304174963384867\n",
            "Loss:0.005269966088235378\n",
            "Loss:0.005235655698925257\n",
            "Loss:0.00520105566829443\n",
            "Loss:0.005167131312191486\n",
            "Loss:0.005132230930030346\n",
            "Loss:0.005098531488329172\n",
            "Epoch: 1860 | Loss: 0.005098531488329172 | Test loss: 0.011850744485855103\n",
            "OrderedDict([('weights', tensor([0.6748])), ('bias', tensor([0.3106]))])\n",
            "Loss:0.005063702818006277\n",
            "Loss:0.005029624793678522\n",
            "Loss:0.004995178431272507\n",
            "Loss:0.004960719496011734\n",
            "Loss:0.004926650784909725\n",
            "Loss:0.004891814198344946\n",
            "Loss:0.004858128726482391\n",
            "Loss:0.004823226481676102\n",
            "Loss:0.00478928629308939\n",
            "Loss:0.004754698369652033\n",
            "Epoch: 1870 | Loss: 0.004754698369652033 | Test loss: 0.011023384518921375\n",
            "OrderedDict([('weights', tensor([0.6765])), ('bias', tensor([0.3099]))])\n",
            "Loss:0.004720381461083889\n",
            "Loss:0.004686175845563412\n",
            "Loss:0.0046514784917235374\n",
            "Loss:0.004617656115442514\n",
            "Loss:0.004582748748362064\n",
            "Loss:0.004548945929855108\n",
            "Loss:0.004514226224273443\n",
            "Loss:0.004480042960494757\n",
            "Loss:0.004445695783942938\n",
            "Loss:0.004411137197166681\n",
            "Epoch: 1880 | Loss: 0.004411137197166681 | Test loss: 0.010264676995575428\n",
            "OrderedDict([('weights', tensor([0.6782])), ('bias', tensor([0.3091]))])\n",
            "Loss:0.004377175122499466\n",
            "Loss:0.004342265427112579\n",
            "Loss:0.004308611154556274\n",
            "Loss:0.0042737508192658424\n",
            "Loss:0.004239702131599188\n",
            "Loss:0.004205218516290188\n",
            "Loss:0.004170800559222698\n",
            "Loss:0.004136695060878992\n",
            "Loss:0.004101893864572048\n",
            "Loss:0.004068171139806509\n",
            "Epoch: 1890 | Loss: 0.004068171139806509 | Test loss: 0.00943730492144823\n",
            "OrderedDict([('weights', tensor([0.6799])), ('bias', tensor([0.3084]))])\n",
            "Loss:0.004033266566693783\n",
            "Loss:0.003999372478574514\n",
            "Loss:0.003964741714298725\n",
            "Loss:0.003930459264665842\n",
            "Loss:0.00389621639624238\n",
            "Loss:0.0038615569937974215\n",
            "Loss:0.003827691078186035\n",
            "Loss:0.0037927902303636074\n",
            "Loss:0.0037590241990983486\n",
            "Loss:0.003724264446645975\n",
            "Epoch: 1900 | Loss: 0.003724264446645975 | Test loss: 0.008609926328063011\n",
            "OrderedDict([('weights', tensor([0.6816])), ('bias', tensor([0.3077]))])\n",
            "Loss:0.0036901242565363646\n",
            "Loss:0.0036557361017912626\n",
            "Loss:0.003621214535087347\n",
            "Loss:0.0035872161388397217\n",
            "Loss:0.0035523115657269955\n",
            "Loss:0.0035180486738681793\n",
            "Loss:0.003484229790046811\n",
            "Loss:0.0034495226573199034\n",
            "Loss:0.0034153363667428493\n",
            "Loss:0.003380997572094202\n",
            "Epoch: 1910 | Loss: 0.003380997572094202 | Test loss: 0.007816916331648827\n",
            "OrderedDict([('weights', tensor([0.6834])), ('bias', tensor([0.3070]))])\n",
            "Loss:0.003346423152834177\n",
            "Loss:0.003312472254037857\n",
            "Loss:0.003277574433013797\n",
            "Loss:0.0032438947819173336\n",
            "Loss:0.003209046320989728\n",
            "Loss:0.0031749880872666836\n",
            "Loss:0.003140520304441452\n",
            "Loss:0.0031060881447046995\n",
            "Loss:0.003071992192417383\n",
            "Loss:0.003037178423255682\n",
            "Epoch: 1920 | Loss: 0.003037178423255682 | Test loss: 0.007058197166770697\n",
            "OrderedDict([('weights', tensor([0.6850])), ('bias', tensor([0.3062]))])\n",
            "Loss:0.0030034719966351986\n",
            "Loss:0.002968567656353116\n",
            "Loss:0.002934650983661413\n",
            "Loss:0.0029000453650951385\n",
            "Loss:0.002865750342607498\n",
            "Loss:0.0028315186500549316\n",
            "Loss:0.002796842949464917\n",
            "Loss:0.002762989606708288\n",
            "Loss:0.0027280934154987335\n",
            "Loss:0.0026943148113787174\n",
            "Epoch: 1930 | Loss: 0.0026943148113787174 | Test loss: 0.006230837199836969\n",
            "OrderedDict([('weights', tensor([0.6868])), ('bias', tensor([0.3055]))])\n",
            "Loss:0.0026595667004585266\n",
            "Loss:0.0026254050899297\n",
            "Loss:0.0025910385884344578\n",
            "Loss:0.002556505845859647\n",
            "Loss:0.002522511873394251\n",
            "Loss:0.002487609628587961\n",
            "Loss:0.0024539672303944826\n",
            "Loss:0.0024190775584429502\n",
            "Loss:0.002385065658017993\n",
            "Loss:0.0023505636490881443\n",
            "Epoch: 1940 | Loss: 0.0023505636490881443 | Test loss: 0.005403476767241955\n",
            "OrderedDict([('weights', tensor([0.6885])), ('bias', tensor([0.3048]))])\n",
            "Loss:0.0023161633871495724\n",
            "Loss:0.0022820390295237303\n",
            "Loss:0.002247260417789221\n",
            "Loss:0.0022135123144835234\n",
            "Loss:0.0021786116994917393\n",
            "Loss:0.0021447360049933195\n",
            "Loss:0.0021100849844515324\n",
            "Loss:0.002075826283544302\n",
            "Loss:0.0020415582694113255\n",
            "Loss:0.0020069205202162266\n",
            "Epoch: 1950 | Loss: 0.0020069205202162266 | Test loss: 0.0046447692438960075\n",
            "OrderedDict([('weights', tensor([0.6902])), ('bias', tensor([0.3041]))])\n",
            "Loss:0.0019730329513549805\n",
            "Loss:0.0019381344318389893\n",
            "Loss:0.0019043959910050035\n",
            "Loss:0.0018696046900004148\n",
            "Loss:0.001835485571064055\n",
            "Loss:0.001801077276468277\n",
            "Loss:0.0017665848135948181\n",
            "Loss:0.0017325483495369554\n",
            "Loss:0.0016976750921458006\n",
            "Loss:0.0016640282701700926\n",
            "Epoch: 1960 | Loss: 0.0016640282701700926 | Test loss: 0.003817397402599454\n",
            "OrderedDict([('weights', tensor([0.6919])), ('bias', tensor([0.3034]))])\n",
            "Loss:0.0016291275387629867\n",
            "Loss:0.0015951491659507155\n",
            "Loss:0.0015606030356138945\n",
            "Loss:0.001526246196590364\n",
            "Loss:0.0014920815592631698\n",
            "Loss:0.0014573410153388977\n",
            "Loss:0.0014235556591302156\n",
            "Loss:0.0013886510860174894\n",
            "Loss:0.0013548105489462614\n",
            "Loss:0.0013201236724853516\n",
            "Epoch: 1970 | Loss: 0.0013201236724853516 | Test loss: 0.0029900134541094303\n",
            "OrderedDict([('weights', tensor([0.6936])), ('bias', tensor([0.3027]))])\n",
            "Loss:0.0012859038542956114\n",
            "Loss:0.0012515976559370756\n",
            "Loss:0.0012170016998425126\n",
            "Loss:0.0011830783914774656\n",
            "Loss:0.001148176146671176\n",
            "Loss:0.001114472048357129\n",
            "Loss:0.0010796419810503721\n",
            "Loss:0.0010455712908878922\n",
            "Loss:0.001011123531498015\n",
            "Loss:0.0009766630828380585\n",
            "Epoch: 1980 | Loss: 0.0009766630828380585 | Test loss: 0.0022313178051263094\n",
            "OrderedDict([('weights', tensor([0.6953])), ('bias', tensor([0.3019]))])\n",
            "Loss:0.0009425953030586243\n",
            "Loss:0.0009077608701772988\n",
            "Loss:0.0008740701014176011\n",
            "Loss:0.0008391745504923165\n",
            "Loss:0.0008052356424741447\n",
            "Loss:0.0007706425967626274\n",
            "Loss:0.0007363297045230865\n",
            "Loss:0.0007021203637123108\n",
            "Loss:0.0006674177711829543\n",
            "Loss:0.0006335958605632186\n",
            "Epoch: 1990 | Loss: 0.0006335958605632186 | Test loss: 0.0014039635425433517\n",
            "OrderedDict([('weights', tensor([0.6970])), ('bias', tensor([0.3012]))])\n",
            "Loss:0.0005986943724565208\n",
            "Loss:0.0005648948135785758\n",
            "Loss:0.000530166202224791\n",
            "Loss:0.0004959903890267015\n",
            "Loss:0.00046164318337105215\n",
            "Loss:0.00042708293767645955\n",
            "Loss:0.0003931157407350838\n",
            "Loss:0.0003582194331102073\n",
            "Loss:0.00032455549808219075\n"
          ]
        }
      ],
      "source": [
        "\n",
        "# HERE THE TRAIN AND TEST LOOPS ARE TOGETHER, WHICH IS AN ERROR\n",
        "epochs = 2000 #loops on data\n",
        "\n",
        "\n",
        "#track the experiment\n",
        "\n",
        "epoch_count = []\n",
        "loss_values = []\n",
        "test_loss_values = []\n",
        "\n",
        "#train\n",
        "for epoch in range(epochs):\n",
        "  model_0.train()\n",
        "\n",
        "  #foward pass\n",
        "  y_pred = model_0(X_train)\n",
        "\n",
        "  #loss\n",
        "  loss = loss_fn(y_pred, y_train)\n",
        "  print(f\"Loss:{loss}\")\n",
        "  #optimizer zero grad. Basically, I need to zero my error, otherwise it will keep accumulating.\n",
        "  optimizer.zero_grad()\n",
        "\n",
        "  #backpropagation, loss backward\n",
        "  loss.backward()\n",
        "\n",
        "  #optimizer step\n",
        "  optimizer.step()\n",
        "\n",
        "\n",
        "  #TESTING !!!\n",
        "  model_0.eval() #Remove unnecessary things to evaluate the model, such as dropout layers for example. It doesn't perform batch normalization.\n",
        "  with torch.inference_mode():\n",
        "    #forward pass\n",
        "    test_pred = model_0(X_test)\n",
        "\n",
        "    #calculate los on the test dataset\n",
        "\n",
        "    test_loss = loss_fn(test_pred, y_test)\n",
        "\n",
        "  #print whats happening\n",
        "  if epoch % 10 == 0:\n",
        "    epoch_count.append(epoch)\n",
        "    loss_values.append(loss)\n",
        "    test_loss_values.append(test_loss)\n",
        "    print(f\"Epoch: {epoch} | Loss: {loss} | Test loss: {test_loss}\")\n",
        "    print(model_0.state_dict())\n",
        "\n"
      ]
    },
    {
      "cell_type": "code",
      "execution_count": null,
      "metadata": {
        "colab": {
          "base_uri": "https://localhost:8080/",
          "height": 489
        },
        "id": "xenzmeqh0j8c",
        "outputId": "795fe663-d062-4a3a-b40f-50c4dabe2c6f"
      },
      "outputs": [
        {
          "data": {
            "text/plain": [
              "<matplotlib.legend.Legend at 0x7dc500bf8760>"
            ]
          },
          "execution_count": 229,
          "metadata": {},
          "output_type": "execute_result"
        },
        {
          "data": {
            "image/png": "[encoded data removed]",
            "text/plain": [
              "<Figure size 640x480 with 1 Axes>"
            ]
          },
          "metadata": {},
          "output_type": "display_data"
        }
      ],
      "source": [
        "#Since I'm dealing with tensors, I wouldn't be able to plot. I need to convert them to numpy.\n",
        "plt.plot(epoch_count,np.array(torch.tensor(loss_values).numpy()),label = \"train loss\")\n",
        "plt.plot(epoch_count, test_loss_values, label = \"test loss\")\n",
        "plt.title(\"train and test loss curves\")\n",
        "\n",
        "plt.ylabel(\"loss\")\n",
        "plt.xlabel(\"epochs\")\n",
        "plt.legend()\n"
      ]
    },
    {
      "cell_type": "code",
      "execution_count": null,
      "metadata": {
        "colab": {
          "base_uri": "https://localhost:8080/"
        },
        "id": "GIDXyRnVHKKM",
        "outputId": "d7d3095c-f254-4b3e-e665-a2400e512624"
      },
      "outputs": [
        {
          "data": {
            "text/plain": [
              "tensor([[0.8594],\n",
              "        [0.8734],\n",
              "        [0.8874],\n",
              "        [0.9014],\n",
              "        [0.9153],\n",
              "        [0.9293],\n",
              "        [0.9433],\n",
              "        [0.9572],\n",
              "        [0.9712],\n",
              "        [0.9852]])"
            ]
          },
          "execution_count": 230,
          "metadata": {},
          "output_type": "execute_result"
        }
      ],
      "source": [
        "#With the inference mode, I discard gradient tracking, along with many other unnecessary tools.\n",
        "with torch.inference_mode():\n",
        "  y_preds_new = model_0(X_test)\n",
        "\n",
        "y_preds_new"
      ]
    },
    {
      "cell_type": "code",
      "execution_count": null,
      "metadata": {
        "colab": {
          "base_uri": "https://localhost:8080/"
        },
        "id": "9-8PxU41HQnT",
        "outputId": "0202d065-7c05-43b8-8dcc-243bc474b51d"
      },
      "outputs": [
        {
          "data": {
            "text/plain": [
              "OrderedDict([('weights', tensor([0.6986])), ('bias', tensor([0.3006]))])"
            ]
          },
          "execution_count": 231,
          "metadata": {},
          "output_type": "execute_result"
        }
      ],
      "source": [
        "model_0.state_dict()"
      ]
    },
    {
      "cell_type": "code",
      "execution_count": null,
      "metadata": {
        "colab": {
          "base_uri": "https://localhost:8080/"
        },
        "id": "FNuhK1ZcHlSL",
        "outputId": "e4c8fb3c-0aca-4693-e453-867345b2a3c3"
      },
      "outputs": [
        {
          "data": {
            "text/plain": [
              "(0.7, 0.3)"
            ]
          },
          "execution_count": 232,
          "metadata": {},
          "output_type": "execute_result"
        }
      ],
      "source": [
        "weight, bias"
      ]
    },
    {
      "cell_type": "code",
      "execution_count": null,
      "metadata": {
        "colab": {
          "base_uri": "https://localhost:8080/",
          "height": 599
        },
        "id": "N4wKEPiNHoba",
        "outputId": "87057050-f3e4-4c3c-fd6a-7b6c27d158d0"
      },
      "outputs": [
        {
          "data": {
            "image/png": "[encoded data removed]",
            "text/plain": [
              "<Figure size 1000x700 with 1 Axes>"
            ]
          },
          "metadata": {},
          "output_type": "display_data"
        }
      ],
      "source": [
        "plot_pred(predictions=y_preds_new);"
      ]
    },
    {
      "cell_type": "markdown",
      "metadata": {
        "id": "QO_jjeFHI-ZQ"
      },
      "source": [
        "there are differences with inference !! ??"
      ]
    },
    {
      "cell_type": "markdown",
      "metadata": {
        "id": "muPTTCEn3M9I"
      },
      "source": [
        "\n",
        "#saving a model in PyTorch:\n",
        "#there are 3 ways to save and load. serialize and deserialize\n",
        "\n",
        "torch.save()\n",
        "\n",
        "torch.load()\n",
        "#saves as a dictionary\n",
        "torch.nn.Module.load_state_dict()\n",
        "save as state dict\n",
        "\n",
        "#https://pytorch.org/tutorials/recipes/recipes/saving_and_loading_models_for_inference.html#:~:text=save()%20function%20will%20give,module%20using%20Python's%20pickle%20module.\n",
        "\n",
        "\n",
        "\n",
        "\n"
      ]
    },
    {
      "cell_type": "code",
      "execution_count": null,
      "metadata": {
        "colab": {
          "base_uri": "https://localhost:8080/"
        },
        "id": "5ARuGfVp4DUD",
        "outputId": "108c07db-cbea-4b9e-f66d-3b98be3ce1e6"
      },
      "outputs": [
        {
          "name": "stdout",
          "output_type": "stream",
          "text": [
            "saving model to: models/01_model_0.pth\n"
          ]
        }
      ],
      "source": [
        "from pathlib import Path\n",
        "\n",
        "#To create a directory:\n",
        "\n",
        "MODEL_PATH = Path(\"models\")\n",
        "MODEL_PATH.mkdir(parents=True, exist_ok=True)\n",
        "\n",
        "#To create a model save path\n",
        "\n",
        "MODEL_NAME = \"01_model_0.pth\"\n",
        "MODEL_SAVE_PATH = MODEL_PATH / MODEL_NAME\n",
        "\n",
        "#save the model state dict\n",
        "\n",
        "print(f\"saving model to: {MODEL_SAVE_PATH}\")\n",
        "torch.save(obj=model_0.state_dict(),\n",
        "           f=MODEL_SAVE_PATH)\n",
        "\n"
      ]
    },
    {
      "cell_type": "code",
      "execution_count": null,
      "metadata": {
        "colab": {
          "base_uri": "https://localhost:8080/"
        },
        "id": "ErAn1Tbk43lQ",
        "outputId": "51644a93-2e11-493f-e300-64b4d28bb25d"
      },
      "outputs": [
        {
          "name": "stdout",
          "output_type": "stream",
          "text": [
            "total 4\n",
            "-rw-r--r-- 1 root root 1514 Apr 28 19:17 01_model_0.pth\n"
          ]
        }
      ],
      "source": [
        "!ls -l models"
      ]
    },
    {
      "cell_type": "code",
      "execution_count": null,
      "metadata": {
        "colab": {
          "base_uri": "https://localhost:8080/"
        },
        "id": "mfdgh8pc5k-H",
        "outputId": "a57af6d2-c496-4823-cb6b-c814f788d06c"
      },
      "outputs": [
        {
          "data": {
            "text/plain": [
              "OrderedDict([('weights', tensor([0.6986])), ('bias', tensor([0.3006]))])"
            ]
          },
          "execution_count": 236,
          "metadata": {},
          "output_type": "execute_result"
        }
      ],
      "source": [
        "model_0.state_dict()"
      ]
    },
    {
      "cell_type": "code",
      "execution_count": null,
      "metadata": {
        "colab": {
          "base_uri": "https://localhost:8080/"
        },
        "id": "1ecep4WH48QT",
        "outputId": "6cf6a6cd-ea8b-4a62-ed15-119e11240e81"
      },
      "outputs": [
        {
          "data": {
            "text/plain": [
              "<All keys matched successfully>"
            ]
          },
          "execution_count": 237,
          "metadata": {},
          "output_type": "execute_result"
        }
      ],
      "source": [
        "\n",
        "To load the model -> check the documentation\n",
        "loaded_model_0 = LinearRegressionModel()\n",
        "\n",
        "#load the save state dict of model_0\n",
        "loaded_model_0.load_state_dict(torch.load(f=MODEL_SAVE_PATH))\n",
        "\n"
      ]
    },
    {
      "cell_type": "code",
      "execution_count": null,
      "metadata": {
        "colab": {
          "base_uri": "https://localhost:8080/"
        },
        "id": "YAJkLMRB5z_L",
        "outputId": "97fbb06e-9d9b-4b96-e439-b6340f9f7c4a"
      },
      "outputs": [
        {
          "data": {
            "text/plain": [
              "OrderedDict([('weights', tensor([0.6986])), ('bias', tensor([0.3006]))])"
            ]
          },
          "execution_count": 238,
          "metadata": {},
          "output_type": "execute_result"
        }
      ],
      "source": [
        "loaded_model_0.state_dict()"
      ]
    },
    {
      "cell_type": "code",
      "execution_count": null,
      "metadata": {
        "colab": {
          "base_uri": "https://localhost:8080/"
        },
        "id": "x2Rir9AS51za",
        "outputId": "94aa6ddb-1b12-4bdb-95cc-3b82a89cc85a"
      },
      "outputs": [
        {
          "data": {
            "text/plain": [
              "tensor([[0.8594],\n",
              "        [0.8734],\n",
              "        [0.8874],\n",
              "        [0.9014],\n",
              "        [0.9153],\n",
              "        [0.9293],\n",
              "        [0.9433],\n",
              "        [0.9572],\n",
              "        [0.9712],\n",
              "        [0.9852]])"
            ]
          },
          "execution_count": 239,
          "metadata": {},
          "output_type": "execute_result"
        }
      ],
      "source": [
        "# Predictions with the new model\n",
        "\n",
        "loaded_model_0.eval()\n",
        "with torch.inference_mode():\n",
        "  loaded_model_preds = loaded_model_0(X_test)\n",
        "\n",
        "loaded_model_preds"
      ]
    },
    {
      "cell_type": "code",
      "execution_count": null,
      "metadata": {
        "colab": {
          "base_uri": "https://localhost:8080/"
        },
        "id": "8EsQk7cV6VlC",
        "outputId": "8fa32c96-3096-4741-822d-7e601f2a5fbe"
      },
      "outputs": [
        {
          "data": {
            "text/plain": [
              "tensor([[False],\n",
              "        [False],\n",
              "        [False],\n",
              "        [False],\n",
              "        [False],\n",
              "        [False],\n",
              "        [False],\n",
              "        [False],\n",
              "        [False],\n",
              "        [False]])"
            ]
          },
          "execution_count": 240,
          "metadata": {},
          "output_type": "execute_result"
        }
      ],
      "source": [
        "y_preds == loaded_model_preds"
      ]
    },
    {
      "cell_type": "code",
      "execution_count": null,
      "metadata": {
        "colab": {
          "base_uri": "https://localhost:8080/"
        },
        "id": "Z30bIcgy7Uqy",
        "outputId": "15723d9a-75bb-48c7-e98e-226c33bf48ae"
      },
      "outputs": [
        {
          "data": {
            "text/plain": [
              "tensor([[0.8594],\n",
              "        [0.8734],\n",
              "        [0.8874],\n",
              "        [0.9014],\n",
              "        [0.9153],\n",
              "        [0.9293],\n",
              "        [0.9433],\n",
              "        [0.9572],\n",
              "        [0.9712],\n",
              "        [0.9852]])"
            ]
          },
          "execution_count": 241,
          "metadata": {},
          "output_type": "execute_result"
        }
      ],
      "source": [
        "model_0.eval()\n",
        "with torch.inference_mode():\n",
        "  y_preds = model_0(X_test)\n",
        "y_preds"
      ]
    },
    {
      "cell_type": "markdown",
      "metadata": {
        "id": "IrqH3LFYAeeG"
      },
      "source": [
        "The example ends here.\n",
        "Now I'm using another approach, using layers.\n",
        "\n",
        "#https://pytorch.org/docs/stable/generated/torch.nn.Linear.html\n",
        "\n",
        "y = x*A^t + b\n",
        "#which is a structure of linear regression\n",
        "\n"
      ]
    },
    {
      "cell_type": "code",
      "execution_count": null,
      "metadata": {
        "colab": {
          "base_uri": "https://localhost:8080/"
        },
        "id": "CwuCH8a77kri",
        "outputId": "6a366d8c-8e1c-44be-cfee-925b2a0acfcf"
      },
      "outputs": [
        {
          "name": "stdout",
          "output_type": "stream",
          "text": [
            "using device: cuda\n"
          ]
        }
      ],
      "source": [
        "device = \"cuda\" if torch.cuda.is_available() else \"cpu\"\n",
        "print(f\"using device: {device}\")"
      ]
    },
    {
      "cell_type": "code",
      "execution_count": null,
      "metadata": {
        "colab": {
          "base_uri": "https://localhost:8080/"
        },
        "id": "d7LoBcNV8pdq",
        "outputId": "0e01d64b-5b93-4439-a273-ff10ca9bf462"
      },
      "outputs": [
        {
          "data": {
            "text/plain": [
              "(LinearRegressionModelV2(\n",
              "   (linear_layer): Linear(in_features=1, out_features=1, bias=True)\n",
              " ),\n",
              " OrderedDict([('linear_layer.weight', tensor([[0.7645]])),\n",
              "              ('linear_layer.bias', tensor([0.8300]))]))"
            ]
          },
          "execution_count": 243,
          "metadata": {},
          "output_type": "execute_result"
        }
      ],
      "source": [
        "\n",
        "class LinearRegressionModelV2(nn.Module):\n",
        "  def __init__(self):\n",
        "    super(). __init__()\n",
        "    #This has several names. Linear layer, dense layer, fully connected layer...\n",
        "    self.linear_layer = nn.Linear(in_features=1,\n",
        "                                  out_features=1)\n",
        "\n",
        "  def forward(self, x: torch.Tensor) -> torch.Tensor:\n",
        "   return self.linear_layer(x)\n",
        "\n",
        "torch.manual_seed(42)\n",
        "\n",
        "model_1 = LinearRegressionModelV2()\n",
        "model_1, model_1.state_dict()\n",
        "#The linear layer performs a linear transformation on the data.\n",
        "#Now that I don't need to declare my weights and biases, and I'm using the linear layer from Torch, I also don't need to create a forward propagation.\n",
        "#I create the forward propagation, but I just need to pass my tensor, which is a linear layer. Before, I would have to pass the entire regression function.\n",
        "\n",
        "#In this layers game, there are several that can be passed, such as pooling, padding, convolution, transformer layers, and so on. Check in the torch.nn documentation."
      ]
    },
    {
      "cell_type": "code",
      "execution_count": null,
      "metadata": {
        "colab": {
          "base_uri": "https://localhost:8080/"
        },
        "id": "8a3Cn2m9_8pU",
        "outputId": "415eae64-1a24-495c-ef32-5bddaa4e91d0"
      },
      "outputs": [
        {
          "data": {
            "text/plain": [
              "(tensor([[0.0000],\n",
              "         [0.0200],\n",
              "         [0.0400],\n",
              "         [0.0600],\n",
              "         [0.0800]]),\n",
              " tensor([[0.3000],\n",
              "         [0.3140],\n",
              "         [0.3280],\n",
              "         [0.3420],\n",
              "         [0.3560]]))"
            ]
          },
          "execution_count": 244,
          "metadata": {},
          "output_type": "execute_result"
        }
      ],
      "source": [
        "X_train[:5], y_train[:5]"
      ]
    },
    {
      "cell_type": "code",
      "execution_count": null,
      "metadata": {
        "colab": {
          "base_uri": "https://localhost:8080/"
        },
        "id": "ZuUeEM6HBAPo",
        "outputId": "3fcf3a06-08e9-4319-9f78-b292b7bc0ee1"
      },
      "outputs": [
        {
          "data": {
            "text/plain": [
              "device(type='cpu')"
            ]
          },
          "execution_count": 245,
          "metadata": {},
          "output_type": "execute_result"
        }
      ],
      "source": [
        "# It happens that the first time, we initialize the parameters, but often, instead of parameters, we initialize layers.\n",
        "next(model_1.parameters()).device"
      ]
    },
    {
      "cell_type": "code",
      "execution_count": null,
      "metadata": {
        "colab": {
          "base_uri": "https://localhost:8080/"
        },
        "id": "1r8GayxKBjz1",
        "outputId": "36d71b4b-1109-482c-cdcb-862742c87b0f"
      },
      "outputs": [
        {
          "data": {
            "text/plain": [
              "device(type='cuda', index=0)"
            ]
          },
          "execution_count": 246,
          "metadata": {},
          "output_type": "execute_result"
        }
      ],
      "source": [
        "model_1.to(device)\n",
        "next(model_1.parameters()).device"
      ]
    },
    {
      "cell_type": "code",
      "execution_count": null,
      "metadata": {
        "id": "CTR5UgZOBmaN"
      },
      "outputs": [],
      "source": [
        "#train == loss, optimizer, train loop, test loop\n",
        "loss_fn = nn.L1Loss()\n",
        "\n",
        "optimizer = torch.optim.SGD(params=model_1.parameters(),\n",
        "                            lr=0.01)\n"
      ]
    },
    {
      "cell_type": "code",
      "execution_count": null,
      "metadata": {
        "colab": {
          "base_uri": "https://localhost:8080/"
        },
        "id": "0JSXwULrEeuk",
        "outputId": "1d1cf177-e711-44bf-cc40-e37f9b93a3af"
      },
      "outputs": [
        {
          "name": "stdout",
          "output_type": "stream",
          "text": [
            "epoch: 0 | Loss: 0.5551779866218567 | Test loss: 0.5739762187004089\n",
            "epoch: 10 | Loss: 0.439968079328537 | Test loss: 0.4392664134502411\n",
            "epoch: 20 | Loss: 0.3247582018375397 | Test loss: 0.30455657839775085\n",
            "epoch: 30 | Loss: 0.20954833924770355 | Test loss: 0.16984669864177704\n",
            "epoch: 40 | Loss: 0.09433845430612564 | Test loss: 0.03513690456748009\n",
            "epoch: 50 | Loss: 0.023886388167738914 | Test loss: 0.04784907028079033\n",
            "epoch: 60 | Loss: 0.019956795498728752 | Test loss: 0.045803118497133255\n",
            "epoch: 70 | Loss: 0.016517987474799156 | Test loss: 0.037530567497015\n",
            "epoch: 80 | Loss: 0.013089174404740334 | Test loss: 0.02994490973651409\n",
            "epoch: 90 | Loss: 0.009653178043663502 | Test loss: 0.02167237363755703\n",
            "epoch: 100 | Loss: 0.006215683650225401 | Test loss: 0.014086711220443249\n",
            "epoch: 110 | Loss: 0.00278724217787385 | Test loss: 0.005814164876937866\n",
            "epoch: 120 | Loss: 0.0012645035749301314 | Test loss: 0.013801801018416882\n",
            "epoch: 130 | Loss: 0.0012645035749301314 | Test loss: 0.013801801018416882\n",
            "epoch: 140 | Loss: 0.0012645035749301314 | Test loss: 0.013801801018416882\n",
            "epoch: 150 | Loss: 0.0012645035749301314 | Test loss: 0.013801801018416882\n",
            "epoch: 160 | Loss: 0.0012645035749301314 | Test loss: 0.013801801018416882\n",
            "epoch: 170 | Loss: 0.0012645035749301314 | Test loss: 0.013801801018416882\n",
            "epoch: 180 | Loss: 0.0012645035749301314 | Test loss: 0.013801801018416882\n",
            "epoch: 190 | Loss: 0.0012645035749301314 | Test loss: 0.013801801018416882\n"
          ]
        }
      ],
      "source": [
        "torch.manual_seed(42)\n",
        "epochs = 200\n",
        "X_train = X_train.to(device)\n",
        "y_train = y_train.to(device)\n",
        "X_test = X_test.to(device)\n",
        "y_test = y_test.to(device)\n",
        "\n",
        "for epoch in range(epochs):\n",
        "  model_1.train()\n",
        "\n",
        "  y_pred= model_1(X_train)\n",
        "\n",
        "  loss=loss_fn(y_pred, y_train)\n",
        "\n",
        "  optimizer.zero_grad()\n",
        "  loss.backward()\n",
        "\n",
        "  optimizer.step()\n",
        "\n",
        "  #test\n",
        "\n",
        "  model_1.eval()\n",
        "  with torch.inference_mode():\n",
        "    test_pred= model_1(X_test)\n",
        "\n",
        "    test_loss = loss_fn(test_pred, y_test)\n",
        "\n",
        "  if epoch % 10 ==0:\n",
        "    print(f\"epoch: {epoch} | Loss: {loss} | Test loss: {test_loss}\")\n",
        "\n",
        "#You can't have 2 devices. My data needs to be on the CPU or all need to be on the CPU."
      ]
    },
    {
      "cell_type": "code",
      "execution_count": null,
      "metadata": {
        "colab": {
          "base_uri": "https://localhost:8080/"
        },
        "id": "GNnmgEY0HI9Y",
        "outputId": "6c37723f-255d-4911-8f7e-f14bcde785e4"
      },
      "outputs": [
        {
          "data": {
            "text/plain": [
              "OrderedDict([('linear_layer.weight', tensor([[0.6968]], device='cuda:0')),\n",
              "             ('linear_layer.bias', tensor([0.3025], device='cuda:0'))])"
            ]
          },
          "execution_count": 249,
          "metadata": {},
          "output_type": "execute_result"
        }
      ],
      "source": [
        "model_1.state_dict()"
      ]
    },
    {
      "cell_type": "code",
      "execution_count": null,
      "metadata": {
        "colab": {
          "base_uri": "https://localhost:8080/"
        },
        "id": "sl1Tur-oIBJt",
        "outputId": "9848b619-d9e8-49c9-93fb-f95bf92573fe"
      },
      "outputs": [
        {
          "data": {
            "text/plain": [
              "(0.7, 0.3)"
            ]
          },
          "execution_count": 250,
          "metadata": {},
          "output_type": "execute_result"
        }
      ],
      "source": [
        "weight, bias"
      ]
    },
    {
      "cell_type": "code",
      "execution_count": null,
      "metadata": {
        "colab": {
          "base_uri": "https://localhost:8080/"
        },
        "id": "8onii19YICq1",
        "outputId": "b8256d50-524a-4f53-da8f-bd6fd9e21895"
      },
      "outputs": [
        {
          "data": {
            "text/plain": [
              "tensor([[0.8600],\n",
              "        [0.8739],\n",
              "        [0.8878],\n",
              "        [0.9018],\n",
              "        [0.9157],\n",
              "        [0.9296],\n",
              "        [0.9436],\n",
              "        [0.9575],\n",
              "        [0.9714],\n",
              "        [0.9854]], device='cuda:0')"
            ]
          },
          "execution_count": 251,
          "metadata": {},
          "output_type": "execute_result"
        }
      ],
      "source": [
        "#predictions.\n",
        "\n",
        "model_1.eval()\n",
        "\n",
        "with torch.inference_mode():\n",
        "  y_preds = model_1(X_test)\n",
        "y_preds\n"
      ]
    },
    {
      "cell_type": "code",
      "execution_count": null,
      "metadata": {
        "colab": {
          "base_uri": "https://localhost:8080/",
          "height": 599
        },
        "id": "TdbxWtVbInmG",
        "outputId": "f761e0c0-69e9-4135-ce2a-3b13d824c451"
      },
      "outputs": [
        {
          "data": {
            "image/png": "[encoded data removed]",
            "text/plain": [
              "<Figure size 1000x700 with 1 Axes>"
            ]
          },
          "metadata": {},
          "output_type": "display_data"
        }
      ],
      "source": [
        "#I need to transform back to the CPU.\n",
        "plot_pred(predictions=y_preds.cpu())"
      ]
    },
    {
      "cell_type": "code",
      "execution_count": null,
      "metadata": {
        "colab": {
          "base_uri": "https://localhost:8080/"
        },
        "id": "RYbZHBzcI0lt",
        "outputId": "e65e7ea1-af89-407f-f6bc-a6db9d91f572"
      },
      "outputs": [
        {
          "name": "stdout",
          "output_type": "stream",
          "text": [
            "saving model to: models/01_mdeo_1.pth\n"
          ]
        }
      ],
      "source": [
        "from pathlib import Path\n",
        "\n",
        "MODEL_PATH = Path(\"models\")\n",
        "MODEL_PATH.mkdir(parents=True, exist_ok=True)\n",
        "\n",
        "MODEL_NAME = \"01_mdeo_1.pth\"\n",
        "MODEL_SAVE_PATH = MODEL_PATH / MODEL_NAME\n",
        "\n",
        "print(f\"saving model to: {MODEL_SAVE_PATH}\")\n",
        "torch.save(obj=model_1.state_dict(),\n",
        "           f=MODEL_SAVE_PATH)"
      ]
    },
    {
      "cell_type": "code",
      "execution_count": null,
      "metadata": {
        "colab": {
          "base_uri": "https://localhost:8080/"
        },
        "id": "Wf7nUpfKJsl1",
        "outputId": "ac6b8230-9607-4eb4-a9f2-203b83cc6f06"
      },
      "outputs": [
        {
          "data": {
            "text/plain": [
              "LinearRegressionModelV2(\n",
              "  (linear_layer): Linear(in_features=1, out_features=1, bias=True)\n",
              ")"
            ]
          },
          "execution_count": 257,
          "metadata": {},
          "output_type": "execute_result"
        }
      ],
      "source": [
        "#load\n",
        "\n",
        "loaded_model_1 = LinearRegressionModelV2()\n",
        "\n",
        "loaded_model_1.load_state_dict(torch.load(MODEL_SAVE_PATH))\n",
        "\n",
        "loaded_model_1.to(device)"
      ]
    },
    {
      "cell_type": "code",
      "execution_count": null,
      "metadata": {
        "colab": {
          "base_uri": "https://localhost:8080/"
        },
        "id": "A9rWlFWSKmPw",
        "outputId": "511e6657-eccf-4763-f80d-4d3da1a06035"
      },
      "outputs": [
        {
          "data": {
            "text/plain": [
              "device(type='cuda', index=0)"
            ]
          },
          "execution_count": 258,
          "metadata": {},
          "output_type": "execute_result"
        }
      ],
      "source": [
        "next(loaded_model_1.parameters()).device"
      ]
    },
    {
      "cell_type": "code",
      "execution_count": null,
      "metadata": {
        "colab": {
          "base_uri": "https://localhost:8080/"
        },
        "id": "8kh9lNiVKrJ2",
        "outputId": "996210e1-9a7c-4951-e4f3-8741627ad319"
      },
      "outputs": [
        {
          "data": {
            "text/plain": [
              "OrderedDict([('linear_layer.weight', tensor([[0.6968]], device='cuda:0')),\n",
              "             ('linear_layer.bias', tensor([0.3025], device='cuda:0'))])"
            ]
          },
          "execution_count": 259,
          "metadata": {},
          "output_type": "execute_result"
        }
      ],
      "source": [
        "loaded_model_1.state_dict()"
      ]
    },
    {
      "cell_type": "code",
      "execution_count": null,
      "metadata": {
        "colab": {
          "base_uri": "https://localhost:8080/"
        },
        "id": "PuMIZTwPKvCl",
        "outputId": "0a251daa-81ca-41db-f991-95d877f7a101"
      },
      "outputs": [
        {
          "data": {
            "text/plain": [
              "tensor([[True],\n",
              "        [True],\n",
              "        [True],\n",
              "        [True],\n",
              "        [True],\n",
              "        [True],\n",
              "        [True],\n",
              "        [True],\n",
              "        [True],\n",
              "        [True]], device='cuda:0')"
            ]
          },
          "execution_count": 261,
          "metadata": {},
          "output_type": "execute_result"
        }
      ],
      "source": [
        "loaded_model_1.eval()\n",
        "with torch.inference_mode():\n",
        "  loaded_model_1_preds = loaded_model_1(X_test)\n",
        "y_preds == loaded_model_1_preds"
      ]
    },
    {
      "cell_type": "code",
      "execution_count": null,
      "metadata": {
        "id": "sSC0Ociy2hyB"
      },
      "outputs": [],
      "source": []
    }
  ],
  "metadata": {
    "accelerator": "GPU",
    "colab": {
      "gpuType": "T4",
      "provenance": []
    },
    "kernelspec": {
      "display_name": "Python 3",
      "name": "python3"
    },
    "language_info": {
      "name": "python"
    }
  },
  "nbformat": 4,
  "nbformat_minor": 0
}
